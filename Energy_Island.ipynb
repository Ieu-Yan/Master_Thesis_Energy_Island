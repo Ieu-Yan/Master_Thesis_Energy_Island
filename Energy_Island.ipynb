{
 "cells": [
  {
   "cell_type": "code",
   "execution_count": 1,
   "metadata": {},
   "outputs": [],
   "source": [
    "import numpy as np\n",
    "import pandas as pd\n",
    "import matplotlib.pyplot as plt\n",
    "import pypsa"
   ]
  },
  {
   "cell_type": "code",
   "execution_count": 2,
   "metadata": {},
   "outputs": [],
   "source": [
    "def annuity(n,r): # annuity factor\n",
    "    return r/(1.-1./(1.+r)**n)*(r>0)+1/n*(r<=0)\n",
    "\n",
    "plants = pd.read_csv('data/plants/plants.csv', sep = ';', index_col = 0, comment = '#')"
   ]
  },
  {
   "cell_type": "code",
   "execution_count": 3,
   "metadata": {},
   "outputs": [],
   "source": [
    "switch = {'year': 2030,\n",
    "          'fuel': 'NH3',\n",
    "          'battery': True,\n",
    "          'wind': True,\n",
    "          'solar': True,\n",
    "          'increase_demand': False,\n",
    "          'connection': False,\n",
    "          'link_constraint': True,\n",
    "          'location': 'Energy Island'}"
   ]
  },
  {
   "cell_type": "code",
   "execution_count": 4,
   "metadata": {},
   "outputs": [],
   "source": [
    "# time index from year\n",
    "t = pd.date_range('%d-01-01 00:00'%switch['year'], '%d-12-31 23:00'%switch['year'], freq = 'H')\n",
    "# leap year\n",
    "if (np.mod(switch['year'],100) != 0 and np.mod(switch['year'],4) == 0) or np.mod(switch['year'],400) == 0:\n",
    "    t = t[:1416].union(t[1440:])\n",
    "\n",
    "# weather data from refinement\n",
    "cf = pd.DataFrame(index = t, columns = ['Wind','PV'])\n",
    "cf['Wind'] = pd.read_csv('data/cf/wind_%s.csv'%plants['location'][switch['location']], index_col = 0).to_numpy()\n",
    "cf['PV'] = pd.read_csv('data/cf/pv_%s.csv'%plants['location'][switch['location']], index_col = 0).to_numpy()"
   ]
  },
  {
   "cell_type": "raw",
   "metadata": {},
   "source": [
    "# leap year insert\n",
    "x = pd.read_csv('data/cf/wind.csv', index_col = 0).to_numpy().flatten()\n",
    "cf['Offshore Wind'][:1416] = x[:1416] # until 2/28\n",
    "cf['Offshore Wind'][1440:] = x[1416:] # from 3/1\n",
    "cf['Offshore Wind'][1416:1440] = (x[1392:1416]+x[1416:1440])/2 # insert 2/29\n",
    "x = pd.read_csv('data/cf/pv.csv', index_col = 0).to_numpy().flatten()\n",
    "cf['Solar PV'][:1416] = x[:1416] # until 2/28\n",
    "cf['Solar PV'][1440:] = x[1416:] # from 3/1\n",
    "cf['Solar PV'][1416:1440] = (x[1392:1416]+x[1416:1440])/2 # insert 2/29"
   ]
  },
  {
   "cell_type": "raw",
   "metadata": {},
   "source": [
    "plt.figure(figsize = (10,10), dpi = 150)\n",
    "\n",
    "plt.subplot(211)\n",
    "plt.plot(cf['Offshore Wind']['%d-01-01 00:00'%switch['year']:'%d-01-08 00:00'%switch['year']],\n",
    "         c = 'deepskyblue', label = 'Offshore Wind')\n",
    "plt.plot(cf['Solar PV']['%d-01-01 00:00'%switch['year']:'%d-01-08 00:00'%switch['year']],\n",
    "         c = 'darkorange', label = 'Solar PV')\n",
    "plt.ylim(0, 1)\n",
    "plt.ylabel('Capacity Factor')\n",
    "plt.legend(loc = 'upper right')\n",
    "\n",
    "plt.subplot(212)\n",
    "plt.plot(cf['Offshore Wind']['%d-07-01 00:00'%switch['year']:'%d-07-08 00:00'%switch['year']],\n",
    "         c = 'deepskyblue', label = 'Offshore Wind')\n",
    "plt.plot(cf['Solar PV']['%d-07-01 00:00'%switch['year']:'%d-07-08 00:00'%switch['year']],\n",
    "         c = 'darkorange', label = 'Solar PV')\n",
    "plt.ylim(0, 1)\n",
    "plt.ylabel('Capacity Factor')\n",
    "plt.legend(loc = 'upper right')\n",
    "\n",
    "plt.show()"
   ]
  },
  {
   "cell_type": "raw",
   "metadata": {},
   "source": [
    "plt.figure(figsize = (10,5), dpi = 150)\n",
    "plt.plot(cf['Offshore Wind'], c = 'deepskyblue', label = 'Offshore Wind')\n",
    "plt.plot(cf['Solar PV'], c = 'darkorange', label = 'Solar PV')\n",
    "plt.ylim(0, 1)\n",
    "plt.ylabel('Capacity Factor')\n",
    "plt.legend(loc = 'upper right')\n",
    "plt.show()"
   ]
  },
  {
   "cell_type": "raw",
   "metadata": {},
   "source": [
    "x = np.arange(np.shape(t)[0])\n",
    "plt.figure(figsize = (6,4), dpi = 150)\n",
    "plt.plot(x, cf['Offshore Wind'].sort_values(ascending = False), c = 'deepskyblue', label = 'Offshore Wind')\n",
    "plt.plot(x, cf['Solar PV'].sort_values(ascending = False), c = 'darkorange', label = 'Solar PV')\n",
    "plt.xlim(0, np.shape(t)[0]-1)\n",
    "plt.ylim(0, 1)\n",
    "plt.xlabel('Hours')\n",
    "plt.ylabel('Capacity Factor')\n",
    "plt.legend(loc = 'upper right')\n",
    "plt.show()"
   ]
  },
  {
   "cell_type": "code",
   "execution_count": 5,
   "metadata": {},
   "outputs": [],
   "source": [
    "# efficiencies\n",
    "eff = pd.Series(index = ['H2 Plant','NH3 Plant','H2 Engine','NH3 Engine','Battery','HVDC'], dtype = float)\n",
    "eff['H2 Plant'] = 141.8/(50*3.6)\n",
    "eff['NH3 Plant'] = 23/(9.9*3.6)\n",
    "eff['H2 Engine'] = 0.55\n",
    "eff['NH3 Engine'] = 0.38\n",
    "eff['Battery'] = 0.9216\n",
    "eff['HVDC'] = 0.97 # per 1000 km\n",
    "\n",
    "# battery max charging hours\n",
    "h_b = 6\n",
    "\n",
    "# energy island fuel demand\n",
    "load = 0.05*1.9e12/3.6/1000/8760 # MWh in every hour\n",
    "if switch['increase_demand']: load *= 1.015**(switch['year']-2030)\n",
    "\n",
    "# offwind: 21 large turbines, off-shore\n",
    "# onwind: 20 Large wind turbines on land\n",
    "# pv: large scale utility systems (NO axis-tracking)\n",
    "# H2: AEC 100MW\n",
    "# NH3: no electrolyzer, ASU ?\n",
    "if switch['year'] == 2030:\n",
    "    n = np.array([30,30,40,30,30,25]) # expected lifetime\n",
    "    r = np.array([0.07]) # constant discount rate\n",
    "    costdata = pd.DataFrame(np.array([[1.93e6,1.04e6,3.8e5,4.5e5,1.3e6,1.42e5*h_b+1.6e5], # €/MW\n",
    "                                      [36053,12600,7250,9000,39000,540], # €/MW/year\n",
    "                                      [2.7,1.35,0.01,0.01,0.02,0]]), # €/MWh\n",
    "                            index = ['Investment','FOM','VOM'],\n",
    "                            columns = ['Offshore Wind','Onshore Wind','Solar PV','H2 Plant','NH3 Plant','Battery'])\n",
    "elif switch['year'] == 2040: \n",
    "    n = np.array([30,30,40,32,30,30]) # expected lifetime\n",
    "    r = np.array([0.07]) # constant discount rate\n",
    "    costdata = pd.DataFrame(np.array([[1.81e6,9.8e5,3.3e5,3e5,1.1e6,9.4e4*h_b+1e5], # €/MW\n",
    "                                      [33169,11592,6625,6000,32000,540], # €/MW/year\n",
    "                                      [2.5,1.24,0.01,0.01,0.02,0]]), # €/MWh\n",
    "                            index = ['Investment','FOM','VOM'],\n",
    "                            columns = ['Offshore Wind','Onshore Wind','Solar PV','H2 Plant','NH3 Plant','Battery'])\n",
    "elif switch['year'] == 2050: \n",
    "    n = np.array([30,30,40,35,30,30]) # expected lifetime\n",
    "    r = np.array([0.07]) # constant discount rate\n",
    "    costdata = pd.DataFrame(np.array([[1.78e6,9.6e5,3e5,2.5e5,8e5,7.5e4*h_b+6e4], # €/MW\n",
    "                                      [32448,11340,6250,5000,24000,540], # €/MW/year\n",
    "                                      [2.4,1.22,0.01,0.01,0.02,0]]), # €/MWh\n",
    "                            index = ['Investment','FOM','VOM'],\n",
    "                            columns = ['Offshore Wind','Onshore Wind','Solar PV','H2 Plant','NH3 Plant','Battery'])\n",
    "ccost = annuity(n,r)*costdata.loc['Investment']+costdata.loc['FOM'] # €/MW"
   ]
  },
  {
   "cell_type": "code",
   "execution_count": 6,
   "metadata": {},
   "outputs": [],
   "source": [
    "dfr = 1.2 # detour factor\n",
    "\n",
    "# onshore and offshore straight distance\n",
    "if switch['location'] == 'Energy Island':\n",
    "    distance = {'DK': (223,81.5), # Thorsminde-DK[Odense] km https://www.mapdevelopers.com/distance_from_to.php\n",
    "                'DE': (773.26,81.5), # Thorsminde-DE\n",
    "                'NO': (441.3,200), # Kristiansand-NO\n",
    "                'NL': (816.55,81.5), # Thorsminde-NL\n",
    "                'GB': (1321.97,327)} # Thorsminde-Rotterdam-Colchester\n",
    "\n",
    "elif switch['location'] == 'DK Wind':\n",
    "    distance = {'DK': (221.5,0), #  \n",
    "                'DE': (771.14,0), #\n",
    "                'NO': (466.5,182.32), # Hjørring-Larvik\n",
    "                'NL': (814.19,0), # \n",
    "                'GB': (1322.88,245.5)} # Rotterdam-Colchester\n",
    "    \n",
    "elif switch['location'] == 'DK Solar':\n",
    "    distance = {'DK': (104.15,0), #  \n",
    "                'DE': (500,50), # Lolland-Fehmarn\n",
    "                'NO': (649.37,182.32), # Hjørring-Larvik\n",
    "                'NL': (540,50), # Lolland-Fehmarn\n",
    "                'GB': (1069.51,295.5)} # Lolland-Fehmarn-Rotterdam-Colchester\n",
    "    \n",
    "elif switch['location'] == 'DE Wind':\n",
    "    distance = {'DK': (495.15,0), #  \n",
    "                'DE': (401.42,0), # \n",
    "                'NO': (931.39,182.32), # Hjørring-Larvik\n",
    "                'NL': (296.54,0), # \n",
    "                'GB': (805.53,245.48)} # Rotterdam-Colchester\n",
    "\n",
    "elif switch['location'] == 'DE Solar':\n",
    "    distance = {'DK': (1161.24,0), #  \n",
    "                'DE': (516.3,0), # \n",
    "                'NO': (1598.65,182.32), # Hørring-Larvik\n",
    "                'NL': (841.71,0), # \n",
    "                'GB': (1295.03,245.5)} #\n",
    "    \n",
    "elif switch['location'] == 'NO Wind':\n",
    "    distance = {'DK': (498.83,140.4), # Kristiansand-Hjørring \n",
    "                'DE': (1048.44,140.4), # \n",
    "                'NO': (485,0), # \n",
    "                'NL': (1088.87,140.4), # Kristiansand-Hjørring \n",
    "                'GB': (483.61,496.4)} # Aberdeen\n",
    "    \n",
    "elif switch['location'] == 'NO Solar':\n",
    "    distance = {'DK': (306.31,182.32), #  \n",
    "                'DE': (856.04,182.32), # \n",
    "                'NO': (251.19,0), # \n",
    "                'NL': (900,182.32), # \n",
    "                'GB': (1403.88,427.79)} # Hjørring-Rotterdam-Colchester \n",
    "\n",
    "elif switch['location'] == 'NL Wind':\n",
    "    distance = {'DK': (674.93,0), #  \n",
    "                'DE': (538.41,0), # \n",
    "                'NO': (1112.27,182.32), # Hjørring-Larvik\n",
    "                'NL': (152.32,0), # \n",
    "                'GB': (605.46,245.48)} # Rotterdam-Colchester\n",
    "    \n",
    "elif switch['location'] == 'NL Solar':\n",
    "    distance = {'DK': (750.9,0), #  \n",
    "                'DE': (582,0), # \n",
    "                'NO': (1188.27,182.32), # Hjørring-Larvik\n",
    "                'NL': (124.44,0), # \n",
    "                'GB': (531.81,245.48)} # Rotterdam-Colchester\n",
    "    \n",
    "elif switch['location'] == 'GB Wind':\n",
    "    distance = {'DK': (931.79,245.48), # Colchester-Rotterdam\n",
    "                'DE': (969.56,245.48), # Colchester-Rotterdam\n",
    "                'NO': (1670.67,427.8), # Colchester-Rotterdam-Hjørring-Larvik\n",
    "                'NL': (542.16,245.48), # Colchester-Rotterdam\n",
    "                'GB': (87.28,0)} # \n",
    "    \n",
    "elif switch['location'] == 'GB Solar':\n",
    "    distance = {'DK': (1013.33,84.13), # Dunkirk\n",
    "                'DE': (652.75,84.13), # Dunkirk\n",
    "                'NO': (1450.2,266.45), # Dunkirk-Hjørring-Larvik\n",
    "                'NL': (332.71,84.13), # Dunkirk\n",
    "                'GB': (505.98,0)} # "
   ]
  },
  {
   "cell_type": "code",
   "execution_count": 7,
   "metadata": {},
   "outputs": [],
   "source": [
    "network = pypsa.Network()\n",
    "\n",
    "network.set_snapshots(t)\n",
    "\n",
    "network.add('Bus', 'Electricity')\n",
    "network.add('Bus', switch['fuel'])"
   ]
  },
  {
   "cell_type": "code",
   "execution_count": 8,
   "metadata": {},
   "outputs": [],
   "source": [
    "network.add('Link',\n",
    "            switch['fuel']+' Plant',\n",
    "            bus0 = 'Electricity',\n",
    "            bus1 = switch['fuel'],\n",
    "            p_nom_extendable = True,\n",
    "            #p_nom_min = 5319.719576,\n",
    "            efficiency = eff[switch['fuel']+' Plant'],\n",
    "            capital_cost = ccost[switch['fuel']+' Plant'],\n",
    "            marginal_cost = costdata.loc['VOM'][switch['fuel']+' Plant']*eff[switch['fuel']+' Plant'])"
   ]
  },
  {
   "cell_type": "code",
   "execution_count": 9,
   "metadata": {},
   "outputs": [],
   "source": [
    "network.add('Load',\n",
    "            'Fuel Demand',\n",
    "            bus = switch['fuel'],\n",
    "            p_set = load)\n",
    "\n",
    "network.add('Store',\n",
    "            'Free Tank',\n",
    "            bus = switch['fuel'],\n",
    "            e_nom_extendable = True,\n",
    "            e_cyclic = True)"
   ]
  },
  {
   "cell_type": "code",
   "execution_count": 10,
   "metadata": {},
   "outputs": [],
   "source": [
    "if switch['wind']:\n",
    "    windname = 'Onshore Wind' if plants['onshore'][switch['location']] else 'Offshore Wind'\n",
    "    network.add('Generator',\n",
    "                windname,\n",
    "                bus = 'Electricity',\n",
    "                p_nom_extendable = True,\n",
    "                p_nom_max = 10000,\n",
    "                #p_nom_min = 5292.263671,\n",
    "                capital_cost = ccost[windname],\n",
    "                marginal_cost = costdata.loc['VOM'][windname],\n",
    "                p_max_pu = cf['Wind'])\n",
    "\n",
    "if switch['solar']:\n",
    "    network.add('Generator',\n",
    "                'Solar PV',\n",
    "                bus = 'Electricity',\n",
    "                p_nom_extendable = True,\n",
    "                p_nom_max = 10000 if plants['onshore'][switch['location']] else 2000,\n",
    "                #p_nom_min = 1139.036028,\n",
    "                capital_cost = ccost['Solar PV'],\n",
    "                marginal_cost = costdata.loc['VOM']['Solar PV'],\n",
    "                p_max_pu = cf['PV'])"
   ]
  },
  {
   "cell_type": "code",
   "execution_count": 11,
   "metadata": {},
   "outputs": [],
   "source": [
    "if switch['battery']:\n",
    "    network.add('StorageUnit',\n",
    "                'Battery',\n",
    "                bus = 'Electricity',\n",
    "                cyclic_state_of_charge = True,\n",
    "                p_nom_extendable = True,\n",
    "                p_nom_max = 800,\n",
    "                #p_nom_min = 0,\n",
    "                capital_cost = ccost['Battery'],\n",
    "                marginal_cost = costdata.loc['VOM']['Battery'],\n",
    "                efficiency_store = eff['Battery'],\n",
    "                efficiency_dispatch = eff['Battery'],\n",
    "                max_hours = h_b)"
   ]
  },
  {
   "cell_type": "code",
   "execution_count": 12,
   "metadata": {},
   "outputs": [],
   "source": [
    "# Countries\n",
    "if switch['connection']:\n",
    "    mcost = pd.read_csv('data/market/price_%d.csv'%switch['year'], index_col = 0).set_index(t)\n",
    "    load = pd.read_csv('data/market/load_%d.csv'%switch['year'], index_col = 0).set_index(t)\n",
    "    for country in distance.keys():\n",
    "        network.add('Bus', country)\n",
    "\n",
    "        network.add('Generator',\n",
    "                    'Elec_'+country,\n",
    "                    bus = country,\n",
    "                    p_nom_extendable = True,\n",
    "                    marginal_cost = mcost[country])\n",
    "        network.add('Load',\n",
    "                    'Load_'+country, \n",
    "                    bus = country, \n",
    "                    p_set = load[country])\n",
    "\n",
    "        cccost = (annuity(40,0.07)+0.02)*(400*distance[country][0]*dfr+2000*distance[country][1]*dfr+150000)\n",
    "        cmcost = 0.01\n",
    "        ceff = 1-(1-eff['HVDC'])*sum(distance[country])*dfr/1000\n",
    "        if switch['link_constraint']:\n",
    "            network.add('Link',\n",
    "                        '%s to %s'%(switch['location'],country),\n",
    "                        bus0 = 'Electricity',\n",
    "                        bus1 = country,\n",
    "                        p_nom_extendable = True,\n",
    "                        p_nom_max = 1500,\n",
    "                        efficiency = ceff,\n",
    "                        capital_cost = cccost/2,\n",
    "                        marginal_cost = cmcost)\n",
    "            network.add('Link',\n",
    "                        '%s to %s'%(country,switch['location']),\n",
    "                        bus0 = country,\n",
    "                        bus1 = 'Electricity',\n",
    "                        p_nom_extendable = True,\n",
    "                        p_nom_max = 1500,\n",
    "                        efficiency = ceff,\n",
    "                        capital_cost = cccost/2,\n",
    "                        marginal_cost = cmcost)\n",
    "        else:\n",
    "            network.add('Bus', country+' Hub 1') # close to plant\n",
    "            network.add('Bus', country+' Hub 2') # close to country\n",
    "\n",
    "            network.add('Link',\n",
    "                        '%s to %s Hub 1'%(switch['location'],country),\n",
    "                        bus0 = 'Electricity',\n",
    "                        bus1 = country+' Hub 1',\n",
    "                        p_nom_extendable = True)\n",
    "            network.add('Link',\n",
    "                        '%s Hub 1 to %s'%(country,switch['location']),\n",
    "                        bus0 = country+' Hub 1',\n",
    "                        bus1 = 'Electricity',\n",
    "                        p_nom_extendable = True,\n",
    "                        efficiency = ceff,\n",
    "                        marginal_cost = cmcost)\n",
    "            network.add('Link',\n",
    "                        '%s Hub 1 and %s Hub 2'%(country,country), \n",
    "                        bus0 = country+' Hub 1',\n",
    "                        bus1 = country+' Hub 2',\n",
    "                        p_nom_extendable = True,\n",
    "                        p_nom_max = 1500,\n",
    "                        p_min_pu = -1,\n",
    "                        capital_cost = cccost) # marta\n",
    "            network.add('Link',\n",
    "                        '%s to %s Hub 2'%(country,country),\n",
    "                        bus0 = country,\n",
    "                        bus1 = country+' Hub 2',\n",
    "                        p_nom_extendable = True)\n",
    "            network.add('Link',\n",
    "                        '%s Hub 2 to %s'%(country,country),\n",
    "                        bus0 = country+' Hub 2',\n",
    "                        bus1 = country,\n",
    "                        p_nom_extendable = True,\n",
    "                        efficiency = ceff,\n",
    "                        marginal_cost = cmcost)\n",
    "else:\n",
    "    switch['link_constraint'] = False"
   ]
  },
  {
   "cell_type": "code",
   "execution_count": 13,
   "metadata": {},
   "outputs": [],
   "source": [
    "if switch['link_constraint']:\n",
    "    def add_cable_constrants(network):\n",
    "        p = pypsa.linopt.get_var(network, 'Link', 'p_nom')\n",
    "        pout = p.loc[['%s to %s'%(switch['location'],country) for country in distance.keys()]]\n",
    "        pin = p.loc[['%s to %s'%(country,switch['location']) for country in distance.keys()]]\n",
    "        lhs = pypsa.linopt.linexpr((1,pout.reset_index(drop = True)),(-1,pin.reset_index(drop = True)))\n",
    "        pypsa.linopt.define_constraints(network, lhs, '=', 0, 'Cable')\n",
    "\n",
    "    def extra_functionality(network, snapshots):\n",
    "        add_cable_constrants(network)"
   ]
  },
  {
   "cell_type": "code",
   "execution_count": 14,
   "metadata": {},
   "outputs": [
    {
     "name": "stderr",
     "output_type": "stream",
     "text": [
      "INFO:pypsa.linopf:Prepare linear problem\n",
      "INFO:pypsa.linopf:Total preparation time: 1.57s\n",
      "INFO:pypsa.linopf:Solve linear problem using Gurobi solver\n"
     ]
    },
    {
     "name": "stdout",
     "output_type": "stream",
     "text": [
      "Set parameter Username\n",
      "Academic license - for non-commercial use only - expires 2022-10-03\n",
      "Read LP format model from file /var/folders/3f/817ykyb972j227v95ln_qw480000gn/T/pypsa-problem-6_8hpkgd.lp\n",
      "Reading time = 0.54 seconds\n",
      "obj: 157680 rows, 70086 columns, 302162 nonzeros\n",
      "Gurobi Optimizer version 9.5.1 build v9.5.1rc2 (mac64[x86])\n",
      "Thread count: 4 physical cores, 8 logical processors, using up to 8 threads\n",
      "Optimize a model with 157680 rows, 70086 columns and 302162 nonzeros\n",
      "Model fingerprint: 0xcefe70a6\n",
      "Coefficient statistics:\n",
      "  Matrix range     [4e-06, 6e+00]\n",
      "  Objective range  [1e-02, 2e+05]\n",
      "  Bounds range     [8e+02, 1e+04]\n",
      "  RHS range        [3e+03, 3e+03]\n",
      "\n",
      "Concurrent LP optimizer: dual simplex and barrier\n",
      "Showing barrier log only...\n",
      "\n",
      "Presolve removed 85089 rows and 15011 columns\n",
      "Presolve time: 0.26s\n",
      "Presolved: 72591 rows, 55075 columns, 193304 nonzeros\n",
      "\n",
      "Ordering time: 0.03s\n",
      "\n",
      "Barrier statistics:\n",
      " Dense cols : 4\n",
      " AA' NZ     : 1.645e+05\n",
      " Factor NZ  : 9.143e+05 (roughly 60 MB of memory)\n",
      " Factor Ops : 1.202e+07 (less than 1 second per iteration)\n",
      " Threads    : 3\n",
      "\n",
      "                  Objective                Residual\n",
      "Iter       Primal          Dual         Primal    Dual     Compl     Time\n",
      "   0   1.24449949e+11  1.87713188e+09  2.41e+06 1.36e+02  4.12e+09     1s\n",
      "   1   1.54173153e+11 -2.63473209e+12  1.78e+06 1.68e+04  1.93e+09     1s\n",
      "   2   1.33143916e+11 -5.05719528e+12  1.65e+06 8.39e+03  2.67e+09     1s\n",
      "   3   3.16377751e+10 -5.72217279e+12  1.58e+05 1.96e+03  3.34e+08     1s\n",
      "   4   2.40129197e+10 -3.24034131e+12  5.65e+04 2.27e+02  1.05e+08     1s\n",
      "   5   2.17975178e+10 -2.12137225e+12  3.03e+04 8.02e+01  5.16e+07     1s\n",
      "   6   2.05190859e+10 -1.56658920e+12  2.08e+04 4.50e+01  3.28e+07     2s\n",
      "   7   1.80871863e+10 -1.01926873e+12  1.19e+04 1.93e+01  1.77e+07     2s\n",
      "   8   1.48199976e+10 -5.90140891e+11  6.86e+03 8.32e+00  8.99e+06     2s\n",
      "   9   9.57184023e+09 -3.62005582e+11  2.67e+03 4.55e+00  4.57e+06     2s\n",
      "  10   5.92371697e+09 -1.78416634e+11  9.98e+02 1.94e+00  2.05e+06     2s\n",
      "  11   3.32257539e+09 -4.59342564e+10  9.73e+01 4.33e-01  4.97e+05     2s\n",
      "  12   3.18612815e+09 -1.05548815e+10  3.55e+01 1.14e-01  1.37e+05     3s\n",
      "  13   3.04867038e+09 -6.11931409e+09  1.40e+01 7.64e-02  9.15e+04     3s\n",
      "  14   2.88610058e+09 -2.62256280e+09  3.62e+00 4.68e-02  5.53e+04     3s\n",
      "  15   2.75260862e+09  3.39856184e+08  1.38e+00 2.06e-02  2.45e+04     3s\n",
      "  16   2.67801244e+09  1.52620801e+09  7.70e-01 9.42e-03  1.18e+04     3s\n",
      "  17   2.60917284e+09  2.28355322e+09  2.84e-01 2.44e-03  3.34e+03     3s\n",
      "  18   2.57606349e+09  2.46403791e+09  1.51e-01 6.96e-04  1.14e+03     4s\n",
      "  19   2.54983461e+09  2.47337389e+09  1.07e-01 5.55e-04  7.83e+02     4s\n",
      "  20   2.53986634e+09  2.48110984e+09  8.53e-02 3.84e-04  5.98e+02     4s\n",
      "  21   2.53244706e+09  2.48318979e+09  6.96e-02 3.39e-04  5.03e+02     4s\n",
      "  22   2.52941356e+09  2.48374877e+09  6.25e-02 3.27e-04  4.67e+02     4s\n",
      "  23   2.52221248e+09  2.48903737e+09  4.72e-02 2.11e-04  3.37e+02     4s\n",
      "  24   2.51843316e+09  2.48956778e+09  3.98e-02 2.00e-04  2.95e+02     5s\n",
      "  25   2.51540301e+09  2.49042915e+09  3.35e-02 1.83e-04  2.56e+02     5s\n",
      "  26   2.51289704e+09  2.49114379e+09  2.83e-02 1.67e-04  2.23e+02     5s\n",
      "  27   2.51065874e+09  2.49174739e+09  2.32e-02 1.55e-04  1.95e+02     5s\n",
      "  28   2.50900000e+09  2.49260654e+09  1.96e-02 1.36e-04  1.69e+02     5s\n",
      "  29   2.50723429e+09  2.49329635e+09  1.60e-02 1.22e-04  1.44e+02     5s\n",
      "  30   2.50635793e+09  2.49368315e+09  1.43e-02 1.13e-04  1.31e+02     5s\n",
      "  31   2.50518959e+09  2.49417161e+09  1.19e-02 1.03e-04  1.14e+02     6s\n",
      "  32   2.50458827e+09  2.49453515e+09  1.06e-02 9.51e-05  1.05e+02     6s\n",
      "  33   2.50343765e+09  2.49523460e+09  8.34e-03 7.98e-05  8.55e+01     6s\n",
      "  34   2.50300074e+09  2.49542040e+09  7.53e-03 7.58e-05  7.91e+01     6s\n",
      "  35   2.50259572e+09  2.49567342e+09  6.72e-03 7.02e-05  7.23e+01     6s\n",
      "  36   2.50198751e+09  2.49656679e+09  5.58e-03 5.03e-05  5.63e+01     6s\n",
      "  37   2.50138908e+09  2.49667794e+09  4.46e-03 4.78e-05  4.92e+01     6s\n",
      "  38   2.50097491e+09  2.49699617e+09  3.74e-03 3.99e-05  4.15e+01     7s\n",
      "  39   2.50062845e+09  2.49708187e+09  3.16e-03 3.79e-05  3.72e+01     7s\n",
      "  40   2.50032014e+09  2.49724746e+09  2.61e-03 3.41e-05  3.23e+01     7s\n",
      "  41   2.49994711e+09  2.49769683e+09  1.97e-03 2.35e-05  2.36e+01     7s\n",
      "  42   2.49977739e+09  2.49773601e+09  1.69e-03 2.26e-05  2.15e+01     7s\n",
      "  43   2.49957192e+09  2.49802180e+09  1.36e-03 1.56e-05  1.62e+01     7s\n",
      "  44   2.49937057e+09  2.49816366e+09  1.05e-03 1.19e-05  1.26e+01     7s\n",
      "  45   2.49926732e+09  2.49824537e+09  9.06e-04 9.92e-06  1.06e+01     8s\n",
      "  46   2.49914593e+09  2.49833823e+09  7.29e-04 7.65e-06  8.40e+00     8s\n",
      "  47   2.49905295e+09  2.49836435e+09  5.89e-04 6.95e-06  7.20e+00     8s\n",
      "  48   2.49897563e+09  2.49844959e+09  4.78e-04 4.81e-06  5.46e+00     8s\n",
      "  49   2.49885531e+09  2.49847149e+09  2.98e-04 4.27e-06  4.04e+00     8s\n",
      "  50   2.49880111e+09  2.49852195e+09  2.21e-04 2.98e-06  2.93e+00     8s\n",
      "  51   2.49872918e+09  2.49854479e+09  1.24e-04 2.41e-06  1.97e+00     9s\n",
      "  52   2.49870115e+09  2.49854786e+09  8.33e-05 2.33e-06  1.66e+00     9s\n",
      "  53   2.49867492e+09  2.49857582e+09  4.77e-05 1.58e-06  1.08e+00     9s\n",
      "  54   2.49867371e+09  2.49858123e+09  4.61e-05 1.44e-06  1.00e+00     9s\n",
      "  55   2.49865748e+09  2.49858798e+09  2.47e-05 1.25e-06  7.68e-01     9s\n",
      "  56   2.49864470e+09  2.49860479e+09  9.62e-06 8.11e-07  4.48e-01     9s\n",
      "  57   2.49864273e+09  2.49863149e+09  7.17e-06 1.20e-07  1.18e-01     9s\n",
      "  58   2.49863675e+09  2.49863354e+09  3.62e-07 6.94e-08  3.61e-02    10s\n",
      "  59   2.49863634e+09  2.49863606e+09  1.57e-07 5.53e-09  3.08e-03    10s\n",
      "  60   2.49863627e+09  2.49863627e+09  6.98e-10 6.69e-10  5.22e-06    10s\n",
      "  61   2.49863627e+09  2.49863627e+09  1.63e-09 2.10e-09  5.39e-12    10s\n",
      "\n",
      "Barrier solved model in 61 iterations and 9.92 seconds (1.74 work units)\n",
      "Optimal objective 2.49863627e+09\n",
      "\n",
      "Crossover log...\n",
      "\n",
      "   35172 DPushes remaining with DInf 0.0000000e+00                10s\n",
      "    6140 DPushes remaining with DInf 0.0000000e+00                10s\n",
      "       0 DPushes remaining with DInf 0.0000000e+00                10s\n",
      "\n",
      "       1 PPushes remaining with PInf 0.0000000e+00                10s\n",
      "       0 PPushes remaining with PInf 0.0000000e+00                10s\n",
      "\n",
      "  Push phase complete: Pinf 0.0000000e+00, Dinf 4.8772135e-09     10s\n",
      "\n",
      "Iteration    Objective       Primal Inf.    Dual Inf.      Time\n",
      "   16166    2.4986363e+09   0.000000e+00   0.000000e+00     10s\n",
      "\n",
      "Solved with barrier\n",
      "Solved in 16166 iterations and 10.49 seconds (2.08 work units)\n",
      "Optimal objective  2.498636268e+09\n"
     ]
    },
    {
     "name": "stderr",
     "output_type": "stream",
     "text": [
      "INFO:pypsa.linopf:Optimization successful. Objective value: 2.50e+09\n"
     ]
    },
    {
     "data": {
      "text/plain": [
       "('ok', 'optimal')"
      ]
     },
     "execution_count": 14,
     "metadata": {},
     "output_type": "execute_result"
    }
   ],
   "source": [
    "network.lopf(network.snapshots,\n",
    "             pyomo = False,\n",
    "             extra_functionality = extra_functionality if switch['link_constraint'] else None,\n",
    "             solver_name = 'gurobi')"
   ]
  },
  {
   "cell_type": "code",
   "execution_count": 15,
   "metadata": {},
   "outputs": [
    {
     "data": {
      "text/plain": [
       "95.16460842308918"
      ]
     },
     "execution_count": 15,
     "metadata": {},
     "output_type": "execute_result"
    }
   ],
   "source": [
    "((sum(network.buses_t.marginal_price['Electricity']*network.links_t.p0[switch['fuel']+' Plant'])\n",
    "+network.links.capital_cost[switch['fuel']+' Plant']*network.links.p_nom_opt[switch['fuel']+' Plant']\n",
    "+network.links.marginal_cost[switch['fuel']+' Plant']*network.links_t.p0[switch['fuel']+' Plant'].sum())\n",
    "/sum(network.loads_t.p['Fuel Demand']))"
   ]
  },
  {
   "cell_type": "code",
   "execution_count": 16,
   "metadata": {},
   "outputs": [
    {
     "data": {
      "text/plain": [
       "(95.16460867571735, 95.16460867571735)"
      ]
     },
     "execution_count": 16,
     "metadata": {},
     "output_type": "execute_result"
    }
   ],
   "source": [
    "(network.buses_t.marginal_price[switch['fuel']].max(),network.buses_t.marginal_price[switch['fuel']].min())"
   ]
  },
  {
   "cell_type": "code",
   "execution_count": 17,
   "metadata": {},
   "outputs": [
    {
     "data": {
      "text/plain": [
       "2498636267.8294983"
      ]
     },
     "execution_count": 17,
     "metadata": {},
     "output_type": "execute_result"
    }
   ],
   "source": [
    "network.objective"
   ]
  },
  {
   "cell_type": "code",
   "execution_count": 18,
   "metadata": {},
   "outputs": [
    {
     "data": {
      "text/plain": [
       "94.68516383352333"
      ]
     },
     "execution_count": 18,
     "metadata": {},
     "output_type": "execute_result"
    }
   ],
   "source": [
    "network.objective/sum(network.loads_t.p['Fuel Demand'])"
   ]
  },
  {
   "cell_type": "raw",
   "metadata": {},
   "source": [
    "'LFC'/eff[switch['fuel']+' Engine'] # €/MWh"
   ]
  },
  {
   "cell_type": "code",
   "execution_count": 19,
   "metadata": {
    "scrolled": true
   },
   "outputs": [
    {
     "data": {
      "text/plain": [
       "Offshore Wind    7283.063876\n",
       "Solar PV         2000.000000\n",
       "Name: p_nom_opt, dtype: float64"
      ]
     },
     "execution_count": 19,
     "metadata": {},
     "output_type": "execute_result"
    }
   ],
   "source": [
    "network.generators.p_nom_opt # in MW"
   ]
  },
  {
   "cell_type": "code",
   "execution_count": 20,
   "metadata": {},
   "outputs": [
    {
     "data": {
      "text/plain": [
       "Battery    0.0\n",
       "Name: p_nom_opt, dtype: float64"
      ]
     },
     "execution_count": 20,
     "metadata": {},
     "output_type": "execute_result"
    }
   ],
   "source": [
    "network.storage_units.p_nom_opt"
   ]
  },
  {
   "cell_type": "code",
   "execution_count": 21,
   "metadata": {
    "scrolled": false
   },
   "outputs": [
    {
     "data": {
      "text/plain": [
       "NH3 Plant    6442.969741\n",
       "Name: p_nom_opt, dtype: float64"
      ]
     },
     "execution_count": 21,
     "metadata": {},
     "output_type": "execute_result"
    }
   ],
   "source": [
    "network.links.p_nom_opt # in MW"
   ]
  },
  {
   "cell_type": "code",
   "execution_count": 22,
   "metadata": {
    "scrolled": false
   },
   "outputs": [
    {
     "ename": "ZeroDivisionError",
     "evalue": "integer division or modulo by zero",
     "output_type": "error",
     "traceback": [
      "\u001b[0;31m---------------------------------------------------------------------------\u001b[0m",
      "\u001b[0;31mZeroDivisionError\u001b[0m                         Traceback (most recent call last)",
      "\u001b[0;32m<ipython-input-22-82c629ac1ee8>\u001b[0m in \u001b[0;36m<module>\u001b[0;34m\u001b[0m\n\u001b[1;32m      1\u001b[0m \u001b[0mplt\u001b[0m\u001b[0;34m.\u001b[0m\u001b[0mfigure\u001b[0m\u001b[0;34m(\u001b[0m\u001b[0mfigsize\u001b[0m\u001b[0;34m=\u001b[0m\u001b[0;34m(\u001b[0m\u001b[0;36m12\u001b[0m\u001b[0;34m,\u001b[0m\u001b[0;36m6\u001b[0m\u001b[0;34m)\u001b[0m\u001b[0;34m,\u001b[0m\u001b[0mdpi\u001b[0m\u001b[0;34m=\u001b[0m\u001b[0;36m100\u001b[0m\u001b[0;34m)\u001b[0m\u001b[0;34m\u001b[0m\u001b[0;34m\u001b[0m\u001b[0m\n\u001b[0;32m----> 2\u001b[0;31m \u001b[0mplt\u001b[0m\u001b[0;34m.\u001b[0m\u001b[0mplot\u001b[0m\u001b[0;34m(\u001b[0m\u001b[0mnetwork\u001b[0m\u001b[0;34m.\u001b[0m\u001b[0mlinks_t\u001b[0m\u001b[0;34m.\u001b[0m\u001b[0mp0\u001b[0m\u001b[0;34m.\u001b[0m\u001b[0mfilter\u001b[0m\u001b[0;34m(\u001b[0m\u001b[0mlike\u001b[0m\u001b[0;34m=\u001b[0m\u001b[0;34m' to '\u001b[0m\u001b[0;34m)\u001b[0m\u001b[0;34m[\u001b[0m\u001b[0;34m'%d-01-01 00:00'\u001b[0m\u001b[0;34m%\u001b[0m\u001b[0mswitch\u001b[0m\u001b[0;34m[\u001b[0m\u001b[0;34m'year'\u001b[0m\u001b[0;34m]\u001b[0m\u001b[0;34m:\u001b[0m\u001b[0;34m'%d-01-08 00:00'\u001b[0m\u001b[0;34m%\u001b[0m\u001b[0mswitch\u001b[0m\u001b[0;34m[\u001b[0m\u001b[0;34m'year'\u001b[0m\u001b[0;34m]\u001b[0m\u001b[0;34m]\u001b[0m\u001b[0;34m)\u001b[0m\u001b[0;34m\u001b[0m\u001b[0;34m\u001b[0m\u001b[0m\n\u001b[0m\u001b[1;32m      3\u001b[0m \u001b[0mplt\u001b[0m\u001b[0;34m.\u001b[0m\u001b[0mlegend\u001b[0m\u001b[0;34m(\u001b[0m\u001b[0mlabels\u001b[0m\u001b[0;34m=\u001b[0m\u001b[0mnetwork\u001b[0m\u001b[0;34m.\u001b[0m\u001b[0mlinks_t\u001b[0m\u001b[0;34m.\u001b[0m\u001b[0mp0\u001b[0m\u001b[0;34m.\u001b[0m\u001b[0mfilter\u001b[0m\u001b[0;34m(\u001b[0m\u001b[0mlike\u001b[0m\u001b[0;34m=\u001b[0m\u001b[0;34m' to '\u001b[0m\u001b[0;34m)\u001b[0m\u001b[0;34m.\u001b[0m\u001b[0mcolumns\u001b[0m\u001b[0;34m)\u001b[0m\u001b[0;34m\u001b[0m\u001b[0;34m\u001b[0m\u001b[0m\n\u001b[1;32m      4\u001b[0m \u001b[0mplt\u001b[0m\u001b[0;34m.\u001b[0m\u001b[0mshow\u001b[0m\u001b[0;34m(\u001b[0m\u001b[0;34m)\u001b[0m\u001b[0;34m\u001b[0m\u001b[0;34m\u001b[0m\u001b[0m\n",
      "\u001b[0;32m/usr/local/anaconda3/envs/py37/lib/python3.7/site-packages/matplotlib/pyplot.py\u001b[0m in \u001b[0;36mplot\u001b[0;34m(scalex, scaley, data, *args, **kwargs)\u001b[0m\n\u001b[1;32m   2824\u001b[0m     return gca().plot(\n\u001b[1;32m   2825\u001b[0m         \u001b[0;34m*\u001b[0m\u001b[0margs\u001b[0m\u001b[0;34m,\u001b[0m \u001b[0mscalex\u001b[0m\u001b[0;34m=\u001b[0m\u001b[0mscalex\u001b[0m\u001b[0;34m,\u001b[0m \u001b[0mscaley\u001b[0m\u001b[0;34m=\u001b[0m\u001b[0mscaley\u001b[0m\u001b[0;34m,\u001b[0m\u001b[0;34m\u001b[0m\u001b[0;34m\u001b[0m\u001b[0m\n\u001b[0;32m-> 2826\u001b[0;31m         **({\"data\": data} if data is not None else {}), **kwargs)\n\u001b[0m\u001b[1;32m   2827\u001b[0m \u001b[0;34m\u001b[0m\u001b[0m\n\u001b[1;32m   2828\u001b[0m \u001b[0;34m\u001b[0m\u001b[0m\n",
      "\u001b[0;32m/usr/local/anaconda3/envs/py37/lib/python3.7/site-packages/matplotlib/axes/_axes.py\u001b[0m in \u001b[0;36mplot\u001b[0;34m(self, scalex, scaley, data, *args, **kwargs)\u001b[0m\n\u001b[1;32m   1741\u001b[0m         \"\"\"\n\u001b[1;32m   1742\u001b[0m         \u001b[0mkwargs\u001b[0m \u001b[0;34m=\u001b[0m \u001b[0mcbook\u001b[0m\u001b[0;34m.\u001b[0m\u001b[0mnormalize_kwargs\u001b[0m\u001b[0;34m(\u001b[0m\u001b[0mkwargs\u001b[0m\u001b[0;34m,\u001b[0m \u001b[0mmlines\u001b[0m\u001b[0;34m.\u001b[0m\u001b[0mLine2D\u001b[0m\u001b[0;34m)\u001b[0m\u001b[0;34m\u001b[0m\u001b[0;34m\u001b[0m\u001b[0m\n\u001b[0;32m-> 1743\u001b[0;31m         \u001b[0mlines\u001b[0m \u001b[0;34m=\u001b[0m \u001b[0;34m[\u001b[0m\u001b[0;34m*\u001b[0m\u001b[0mself\u001b[0m\u001b[0;34m.\u001b[0m\u001b[0m_get_lines\u001b[0m\u001b[0;34m(\u001b[0m\u001b[0;34m*\u001b[0m\u001b[0margs\u001b[0m\u001b[0;34m,\u001b[0m \u001b[0mdata\u001b[0m\u001b[0;34m=\u001b[0m\u001b[0mdata\u001b[0m\u001b[0;34m,\u001b[0m \u001b[0;34m**\u001b[0m\u001b[0mkwargs\u001b[0m\u001b[0;34m)\u001b[0m\u001b[0;34m]\u001b[0m\u001b[0;34m\u001b[0m\u001b[0;34m\u001b[0m\u001b[0m\n\u001b[0m\u001b[1;32m   1744\u001b[0m         \u001b[0;32mfor\u001b[0m \u001b[0mline\u001b[0m \u001b[0;32min\u001b[0m \u001b[0mlines\u001b[0m\u001b[0;34m:\u001b[0m\u001b[0;34m\u001b[0m\u001b[0;34m\u001b[0m\u001b[0m\n\u001b[1;32m   1745\u001b[0m             \u001b[0mself\u001b[0m\u001b[0;34m.\u001b[0m\u001b[0madd_line\u001b[0m\u001b[0;34m(\u001b[0m\u001b[0mline\u001b[0m\u001b[0;34m)\u001b[0m\u001b[0;34m\u001b[0m\u001b[0;34m\u001b[0m\u001b[0m\n",
      "\u001b[0;32m/usr/local/anaconda3/envs/py37/lib/python3.7/site-packages/matplotlib/axes/_base.py\u001b[0m in \u001b[0;36m__call__\u001b[0;34m(self, data, *args, **kwargs)\u001b[0m\n\u001b[1;32m    271\u001b[0m                 \u001b[0mthis\u001b[0m \u001b[0;34m+=\u001b[0m \u001b[0margs\u001b[0m\u001b[0;34m[\u001b[0m\u001b[0;36m0\u001b[0m\u001b[0;34m]\u001b[0m\u001b[0;34m,\u001b[0m\u001b[0;34m\u001b[0m\u001b[0;34m\u001b[0m\u001b[0m\n\u001b[1;32m    272\u001b[0m                 \u001b[0margs\u001b[0m \u001b[0;34m=\u001b[0m \u001b[0margs\u001b[0m\u001b[0;34m[\u001b[0m\u001b[0;36m1\u001b[0m\u001b[0;34m:\u001b[0m\u001b[0;34m]\u001b[0m\u001b[0;34m\u001b[0m\u001b[0;34m\u001b[0m\u001b[0m\n\u001b[0;32m--> 273\u001b[0;31m             \u001b[0;32myield\u001b[0m \u001b[0;32mfrom\u001b[0m \u001b[0mself\u001b[0m\u001b[0;34m.\u001b[0m\u001b[0m_plot_args\u001b[0m\u001b[0;34m(\u001b[0m\u001b[0mthis\u001b[0m\u001b[0;34m,\u001b[0m \u001b[0mkwargs\u001b[0m\u001b[0;34m)\u001b[0m\u001b[0;34m\u001b[0m\u001b[0;34m\u001b[0m\u001b[0m\n\u001b[0m\u001b[1;32m    274\u001b[0m \u001b[0;34m\u001b[0m\u001b[0m\n\u001b[1;32m    275\u001b[0m     \u001b[0;32mdef\u001b[0m \u001b[0mget_next_color\u001b[0m\u001b[0;34m(\u001b[0m\u001b[0mself\u001b[0m\u001b[0;34m)\u001b[0m\u001b[0;34m:\u001b[0m\u001b[0;34m\u001b[0m\u001b[0;34m\u001b[0m\u001b[0m\n",
      "\u001b[0;32m/usr/local/anaconda3/envs/py37/lib/python3.7/site-packages/matplotlib/axes/_base.py\u001b[0m in \u001b[0;36m_plot_args\u001b[0;34m(self, tup, kwargs)\u001b[0m\n\u001b[1;32m    417\u001b[0m             \u001b[0;32mraise\u001b[0m \u001b[0mValueError\u001b[0m\u001b[0;34m(\u001b[0m\u001b[0;34mf\"x has {ncx} columns but y has {ncy} columns\"\u001b[0m\u001b[0;34m)\u001b[0m\u001b[0;34m\u001b[0m\u001b[0;34m\u001b[0m\u001b[0m\n\u001b[1;32m    418\u001b[0m         return [func(x[:, j % ncx], y[:, j % ncy], kw, kwargs)\n\u001b[0;32m--> 419\u001b[0;31m                 for j in range(max(ncx, ncy))]\n\u001b[0m\u001b[1;32m    420\u001b[0m \u001b[0;34m\u001b[0m\u001b[0m\n\u001b[1;32m    421\u001b[0m \u001b[0;34m\u001b[0m\u001b[0m\n",
      "\u001b[0;32m/usr/local/anaconda3/envs/py37/lib/python3.7/site-packages/matplotlib/axes/_base.py\u001b[0m in \u001b[0;36m<listcomp>\u001b[0;34m(.0)\u001b[0m\n\u001b[1;32m    417\u001b[0m             \u001b[0;32mraise\u001b[0m \u001b[0mValueError\u001b[0m\u001b[0;34m(\u001b[0m\u001b[0;34mf\"x has {ncx} columns but y has {ncy} columns\"\u001b[0m\u001b[0;34m)\u001b[0m\u001b[0;34m\u001b[0m\u001b[0;34m\u001b[0m\u001b[0m\n\u001b[1;32m    418\u001b[0m         return [func(x[:, j % ncx], y[:, j % ncy], kw, kwargs)\n\u001b[0;32m--> 419\u001b[0;31m                 for j in range(max(ncx, ncy))]\n\u001b[0m\u001b[1;32m    420\u001b[0m \u001b[0;34m\u001b[0m\u001b[0m\n\u001b[1;32m    421\u001b[0m \u001b[0;34m\u001b[0m\u001b[0m\n",
      "\u001b[0;31mZeroDivisionError\u001b[0m: integer division or modulo by zero"
     ]
    },
    {
     "data": {
      "image/png": "[encoded data removed]",
      "text/plain": [
       "<Figure size 1200x600 with 1 Axes>"
      ]
     },
     "metadata": {
      "needs_background": "light"
     },
     "output_type": "display_data"
    }
   ],
   "source": [
    "plt.figure(figsize=(12,6),dpi=100)\n",
    "plt.plot(network.links_t.p0.filter(like=' to ')['%d-01-01 00:00'%switch['year']:'%d-01-08 00:00'%switch['year']])\n",
    "plt.legend(labels=network.links_t.p0.filter(like=' to ').columns)\n",
    "plt.show()"
   ]
  },
  {
   "cell_type": "raw",
   "metadata": {},
   "source": [
    "plt.figure(figsize = (10,10), dpi = 150)\n",
    "\n",
    "plt.subplot(211)\n",
    "plt.plot(network.loads_t.p['Fuel Demand']['%d-01-01 00:00'%switch['year']:'%d-01-08 00:00'%switch['year']], '--',\n",
    "         c = 'grey', label = 'Fuel Demand')\n",
    "plt.plot(network.links_t.p0[switch['fuel']+' Plant']['%d-01-01 00:00'%switch['year']:'%d-01-08 00:00'%switch['year']],\n",
    "         c = 'black', label = 'Electricity Generation')\n",
    "if switch['wind']:\n",
    "    plt.plot(network.generators_t.p['Offshore Wind']['%d-01-01 00:00'%switch['year']:'%d-01-08 00:00'%switch['year']],\n",
    "             c = 'deepskyblue', label = 'Offshore Wind')\n",
    "if switch['solar']:\n",
    "    plt.plot(network.generators_t.p['Solar PV']['%d-01-01 00:00'%switch['year']:'%d-01-08 00:00'%switch['year']],\n",
    "             c = 'darkorange', label = 'Solar PV')\n",
    "if switch['battery']:\n",
    "    plt.plot(network.storage_units_t.p['Battery']['%d-01-01 00:00'%switch['year']:'%d-01-08 00:00'%switch['year']],\n",
    "             c = 'limegreen', label = 'Battery')\n",
    "plt.ylabel('Power (MW)')\n",
    "plt.legend(loc = 'upper right')\n",
    "\n",
    "plt.subplot(212)\n",
    "plt.plot(network.loads_t.p['Fuel Demand']['%d-07-01 00:00'%switch['year']:'%d-07-08 00:00'%switch['year']], '--',\n",
    "         c = 'grey', label = 'Fuel Demand')\n",
    "plt.plot(network.links_t.p0[switch['fuel']+' Plant']['%d-07-01 00:00'%switch['year']:'%d-07-08 00:00'%switch['year']],\n",
    "         c = 'black', label = 'Electricity Generation')\n",
    "if switch['wind']:\n",
    "    plt.plot(network.generators_t.p['Offshore Wind']['%d-07-01 00:00'%switch['year']:'%d-07-08 00:00'%switch['year']],\n",
    "             c = 'deepskyblue', label = 'Offshore Wind')\n",
    "if switch['solar']:\n",
    "    plt.plot(network.generators_t.p['Solar PV']['%d-07-01 00:00'%switch['year']:'%d-07-08 00:00'%switch['year']],\n",
    "             c = 'darkorange', label = 'Solar PV')\n",
    "if switch['battery']:\n",
    "    plt.plot(network.storage_units_t.p['Battery']['%d-07-01 00:00'%switch['year']:'%d-07-08 00:00'%switch['year']],\n",
    "             c = 'limegreen', label = 'Battery')\n",
    "plt.ylabel('Power (MW)')\n",
    "plt.legend(loc = 'upper right')\n",
    "\n",
    "plt.show()"
   ]
  },
  {
   "cell_type": "raw",
   "metadata": {},
   "source": [
    "plt.figure(figsize = (10,5), dpi = 150)\n",
    "plt.plot(network.loads_t.p['Fuel Demand'], '--', c = 'grey', label = 'Fuel Demand')\n",
    "plt.plot(network.links_t.p0[switch['fuel']+' Plant'], c = 'black', label = 'Electricity Generation')\n",
    "if switch['wind']:\n",
    "    plt.plot(network.generators_t.p['Offshore Wind'], c = 'deepskyblue', label = 'Offshore Wind')\n",
    "if switch['solar']:\n",
    "    plt.plot(network.generators_t.p['Solar PV'], c = 'darkorange', label = 'Solar PV')\n",
    "if switch['battery']:\n",
    "    plt.plot(network.storage_units_t.p['Battery'], c = 'limegreen', label = 'Battery')\n",
    "plt.ylabel('Power (MW)')\n",
    "plt.legend(loc = 'upper right')\n",
    "plt.show()"
   ]
  },
  {
   "cell_type": "raw",
   "metadata": {},
   "source": [
    "x = np.arange(np.shape(t)[0])\n",
    "plt.figure(figsize = (6,4), dpi = 150)\n",
    "plt.plot(x, network.links_t.p0[switch['fuel']+' Plant'].sort_values(ascending = False),\n",
    "         c = 'black', label = 'Electricity Generation')\n",
    "if switch['wind']:\n",
    "    plt.plot(x, network.generators_t.p['Offshore Wind'].sort_values(ascending = False),\n",
    "             c = 'deepskyblue', label = 'Offshore Wind')\n",
    "if switch['solar']:\n",
    "    plt.plot(x, network.generators_t.p['Solar PV'].sort_values(ascending = False),\n",
    "             c = 'darkorange', label = 'Solar PV')\n",
    "if switch['battery']:\n",
    "    plt.plot(x, network.storage_units_t.p['Battery'].sort_values(ascending = False),\n",
    "             c = 'limegreen', label = 'Battery')\n",
    "plt.xlim(0, np.shape(t)[0]-1)\n",
    "plt.xlabel('Hours')\n",
    "plt.ylabel('Power (MW)')\n",
    "plt.legend(loc = 'upper right')\n",
    "plt.show()"
   ]
  },
  {
   "cell_type": "raw",
   "metadata": {},
   "source": [
    "if switch['wind'] & switch['solar']:\n",
    "    plt.figure(figsize = (3, 3), dpi = 150)\n",
    "    plt.pie([network.generators_t.p['Offshore Wind'].sum(),\n",
    "             network.generators_t.p['Solar PV'].sum()], \n",
    "            colors = ['deepskyblue','darkorange'], \n",
    "            labels = ['Offshore Wind','Solar PV'], \n",
    "            autopct = '%1.1f%%')\n",
    "    plt.axis('equal')\n",
    "    plt.show()\n",
    "\n",
    "labels = []\n",
    "sizes = []\n",
    "colors = []\n",
    "if switch['wind']:\n",
    "    labels.append('Offshore Wind')\n",
    "    sizes.append(network.generators.capital_cost['Offshore Wind']*network.generators.p_nom_opt['Offshore Wind']\n",
    "                 +network.generators.marginal_cost['Offshore Wind']*network.generators_t.p.sum()['Offshore Wind'])\n",
    "    colors.append('deepskyblue')\n",
    "if switch['solar']:\n",
    "    labels.append('Solar PV')\n",
    "    sizes.append(network.generators.capital_cost['Solar PV']*network.generators.p_nom_opt['Solar PV']\n",
    "                 +network.generators.marginal_cost['Solar PV']*network.generators_t.p.sum()['Solar PV'])\n",
    "    colors.append('darkorange')\n",
    "labels.append(switch['fuel']+' Plant')\n",
    "sizes.append(network.links.capital_cost[switch['fuel']+' Plant']*network.links.p_nom_opt[switch['fuel']+' Plant']\n",
    "             +network.links.marginal_cost[switch['fuel']+' Plant']*network.links_t.p0.sum()[switch['fuel']+' Plant'])\n",
    "colors.append('brown')\n",
    "if switch['battery']:\n",
    "    labels.append('Battery')\n",
    "    sizes.append(network.storage_units.capital_cost['Battery']*network.storage_units.p_nom_opt['Battery'])\n",
    "    colors.append('limegreen')\n",
    "\n",
    "plt.figure(figsize = (3, 3), dpi = 150)\n",
    "plt.pie(sizes, \n",
    "        colors = colors, \n",
    "        labels = labels, \n",
    "        autopct = '%1.1f%%')\n",
    "plt.axis('equal')\n",
    "plt.show()"
   ]
  }
 ],
 "metadata": {
  "kernelspec": {
   "display_name": "Python 3",
   "language": "python",
   "name": "python3"
  },
  "language_info": {
   "codemirror_mode": {
    "name": "ipython",
    "version": 3
   },
   "file_extension": ".py",
   "mimetype": "text/x-python",
   "name": "python",
   "nbconvert_exporter": "python",
   "pygments_lexer": "ipython3",
   "version": "3.7.9"
  }
 },
 "nbformat": 4,
 "nbformat_minor": 4
}
