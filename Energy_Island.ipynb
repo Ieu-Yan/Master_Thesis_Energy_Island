{
 "cells": [
  {
   "cell_type": "code",
   "execution_count": 1,
   "metadata": {},
   "outputs": [],
   "source": [
    "import numpy as np\n",
    "import pandas as pd\n",
    "import matplotlib.pyplot as plt\n",
    "import pypsa"
   ]
  },
  {
   "cell_type": "code",
   "execution_count": 2,
   "metadata": {},
   "outputs": [],
   "source": [
    "def annuity(n,r): # annuity factor\n",
    "    return r/(1.-1./(1.+r)**n)*(r>0)+1/n*(r<=0)\n",
    "\n",
    "plants = pd.read_csv('data/plants/plants.csv', sep = ';', index_col = 0, comment = '#')"
   ]
  },
  {
   "cell_type": "code",
   "execution_count": 3,
   "metadata": {},
   "outputs": [],
   "source": [
    "switch = {'year': 2030,\n",
    "          'fuel': 'NH3',\n",
    "          'battery': True,\n",
    "          'wind': True,\n",
    "          'solar': True,\n",
    "          'increase_demand': False,\n",
    "          'connection': True,\n",
    "          'link_constraint': False,\n",
    "          'location': 'Energy Island'}"
   ]
  },
  {
   "cell_type": "code",
   "execution_count": 4,
   "metadata": {},
   "outputs": [],
   "source": [
    "# time index from year\n",
    "t = pd.date_range('%d-01-01 00:00'%switch['year'], '%d-12-31 23:00'%switch['year'], freq = 'H')\n",
    "# leap year\n",
    "if (np.mod(switch['year'],100) != 0 and np.mod(switch['year'],4) == 0) or np.mod(switch['year'],400) == 0:\n",
    "    t = t[:1416].union(t[1440:])\n",
    "\n",
    "# weather data from refinement\n",
    "cf = pd.DataFrame(index = t, columns = ['Wind','PV'])\n",
    "cf['Wind'] = pd.read_csv('data/cf/wind_%s.csv'%plants['location'][switch['location']], index_col = 0).to_numpy()\n",
    "cf['PV'] = pd.read_csv('data/cf/pv_%s.csv'%plants['location'][switch['location']], index_col = 0).to_numpy()"
   ]
  },
  {
   "cell_type": "raw",
   "metadata": {},
   "source": [
    "# leap year insert\n",
    "x = pd.read_csv('data/cf/wind.csv', index_col = 0).to_numpy().flatten()\n",
    "cf['Offshore Wind'][:1416] = x[:1416] # until 2/28\n",
    "cf['Offshore Wind'][1440:] = x[1416:] # from 3/1\n",
    "cf['Offshore Wind'][1416:1440] = (x[1392:1416]+x[1416:1440])/2 # insert 2/29\n",
    "x = pd.read_csv('data/cf/pv.csv', index_col = 0).to_numpy().flatten()\n",
    "cf['Solar PV'][:1416] = x[:1416] # until 2/28\n",
    "cf['Solar PV'][1440:] = x[1416:] # from 3/1\n",
    "cf['Solar PV'][1416:1440] = (x[1392:1416]+x[1416:1440])/2 # insert 2/29"
   ]
  },
  {
   "cell_type": "raw",
   "metadata": {},
   "source": [
    "plt.figure(figsize = (10,10), dpi = 150)\n",
    "\n",
    "plt.subplot(211)\n",
    "plt.plot(cf['Offshore Wind']['%d-01-01 00:00'%switch['year']:'%d-01-08 00:00'%switch['year']],\n",
    "         c = 'deepskyblue', label = 'Offshore Wind')\n",
    "plt.plot(cf['Solar PV']['%d-01-01 00:00'%switch['year']:'%d-01-08 00:00'%switch['year']],\n",
    "         c = 'darkorange', label = 'Solar PV')\n",
    "plt.ylim(0, 1)\n",
    "plt.ylabel('Capacity Factor')\n",
    "plt.legend(loc = 'upper right')\n",
    "\n",
    "plt.subplot(212)\n",
    "plt.plot(cf['Offshore Wind']['%d-07-01 00:00'%switch['year']:'%d-07-08 00:00'%switch['year']],\n",
    "         c = 'deepskyblue', label = 'Offshore Wind')\n",
    "plt.plot(cf['Solar PV']['%d-07-01 00:00'%switch['year']:'%d-07-08 00:00'%switch['year']],\n",
    "         c = 'darkorange', label = 'Solar PV')\n",
    "plt.ylim(0, 1)\n",
    "plt.ylabel('Capacity Factor')\n",
    "plt.legend(loc = 'upper right')\n",
    "\n",
    "plt.show()"
   ]
  },
  {
   "cell_type": "raw",
   "metadata": {},
   "source": [
    "plt.figure(figsize = (10,5), dpi = 150)\n",
    "plt.plot(cf['Offshore Wind'], c = 'deepskyblue', label = 'Offshore Wind')\n",
    "plt.plot(cf['Solar PV'], c = 'darkorange', label = 'Solar PV')\n",
    "plt.ylim(0, 1)\n",
    "plt.ylabel('Capacity Factor')\n",
    "plt.legend(loc = 'upper right')\n",
    "plt.show()"
   ]
  },
  {
   "cell_type": "raw",
   "metadata": {},
   "source": [
    "x = np.arange(np.shape(t)[0])\n",
    "plt.figure(figsize = (6,4), dpi = 150)\n",
    "plt.plot(x, cf['Offshore Wind'].sort_values(ascending = False), c = 'deepskyblue', label = 'Offshore Wind')\n",
    "plt.plot(x, cf['Solar PV'].sort_values(ascending = False), c = 'darkorange', label = 'Solar PV')\n",
    "plt.xlim(0, np.shape(t)[0]-1)\n",
    "plt.ylim(0, 1)\n",
    "plt.xlabel('Hours')\n",
    "plt.ylabel('Capacity Factor')\n",
    "plt.legend(loc = 'upper right')\n",
    "plt.show()"
   ]
  },
  {
   "cell_type": "code",
   "execution_count": 5,
   "metadata": {},
   "outputs": [],
   "source": [
    "# efficiencies\n",
    "eff = pd.Series(index = ['H2 Plant','NH3 Plant','H2 Engine','NH3 Engine','Battery','HVDC'], dtype = float)\n",
    "eff['H2 Plant'] = 141.8/(50*3.6)\n",
    "eff['NH3 Plant'] = 23/(9.9*3.6)\n",
    "eff['H2 Engine'] = 0.55\n",
    "eff['NH3 Engine'] = 0.38\n",
    "eff['Battery'] = 0.9216\n",
    "eff['HVDC'] = 0.97 # per 1000 km\n",
    "\n",
    "# battery max charging hours\n",
    "h_b = 6\n",
    "\n",
    "# energy island fuel demand\n",
    "load = 0.026*1.9e12/3.6/1000/8760 # MWh in every hour\n",
    "if switch['increase_demand']: load *= 1.015**(switch['year']-2030)\n",
    "\n",
    "# offwind: 21 large turbines, off-shore\n",
    "# onwind: 20 Large wind turbines on land\n",
    "# pv: large scale utility systems (NO axis-tracking)\n",
    "# H2: AEC 100MW\n",
    "# NH3: no electrolyzer, ASU ?\n",
    "if switch['year'] == 2030:\n",
    "    n = np.array([30,30,40,30,30,25]) # expected lifetime\n",
    "    r = np.array([0.07]) # constant discount rate\n",
    "    costdata = pd.DataFrame(np.array([[1.93e6,1.04e6,3.8e5,4.5e5,1.3e6,1.42e5*h_b+1.6e5], # €/MW\n",
    "                                      [36053,12600,7250,9000,39000,540], # €/MW/year\n",
    "                                      [2.7,1.35,0.01,0.01,0.02,0]]), # €/MWh\n",
    "                            index = ['Investment','FOM','VOM'],\n",
    "                            columns = ['Offshore Wind','Onshore Wind','Solar PV','H2 Plant','NH3 Plant','Battery'])\n",
    "elif switch['year'] == 2040: \n",
    "    n = np.array([30,30,40,32,30,30]) # expected lifetime\n",
    "    r = np.array([0.07]) # constant discount rate\n",
    "    costdata = pd.DataFrame(np.array([[1.81e6,9.8e5,3.3e5,3e5,1.1e6,9.4e4*h_b+1e5], # €/MW\n",
    "                                      [33169,11592,6625,6000,32000,540], # €/MW/year\n",
    "                                      [2.5,1.24,0.01,0.01,0.02,0]]), # €/MWh\n",
    "                            index = ['Investment','FOM','VOM'],\n",
    "                            columns = ['Offshore Wind','Onshore Wind','Solar PV','H2 Plant','NH3 Plant','Battery'])\n",
    "elif switch['year'] == 2050: \n",
    "    n = np.array([30,30,40,35,30,30]) # expected lifetime\n",
    "    r = np.array([0.07]) # constant discount rate\n",
    "    costdata = pd.DataFrame(np.array([[1.78e6,9.6e5,3e5,2.5e5,8e5,7.5e4*h_b+6e4], # €/MW\n",
    "                                      [32448,11340,6250,5000,24000,540], # €/MW/year\n",
    "                                      [2.4,1.22,0.01,0.01,0.02,0]]), # €/MWh\n",
    "                            index = ['Investment','FOM','VOM'],\n",
    "                            columns = ['Offshore Wind','Onshore Wind','Solar PV','H2 Plant','NH3 Plant','Battery'])\n",
    "ccost = annuity(n,r)*costdata.loc['Investment']+costdata.loc['FOM'] # €/MW"
   ]
  },
  {
   "cell_type": "code",
   "execution_count": 6,
   "metadata": {},
   "outputs": [],
   "source": [
    "dfr = 1.2 # detour factor\n",
    "\n",
    "# onshore and offshore straight distance\n",
    "if switch['location'] == 'Energy Island':\n",
    "    distance = {'DK': (223,81.5), # Thorsminde-DK[Odense] km https://www.mapdevelopers.com/distance_from_to.php\n",
    "                'DE': (420.5,306.2), # Cuxhaven-DE\n",
    "                'NO': (441.3,200), # Kristiansand-NO\n",
    "                'NL': (155,354), # Groningen-NL\n",
    "                'GB': (98.28,550.3)} # Newcastle_upon_Tyne-GB\n",
    "    \n",
    "elif switch['location'] == 'DK Wind':\n",
    "    distance = {'DK': (221.5,0), #  \n",
    "                'DE': (771.14,0), #\n",
    "                'NO': (466.5,182.32), # Hjørring-Larvik\n",
    "                'SE': (997.69,0), # \n",
    "                'GB': (92.2,635.93)} # Thorsminde-Newcastle upon Tyne\n",
    "    \n",
    "elif switch['location'] == 'DK Solar':\n",
    "    distance = {'DK': (104.15,0), #  \n",
    "                'DE': (500,50), # Rødbyhavn-Fehmarn\n",
    "                'SE': (781.66,0), # \n",
    "                'NO': (649.37,182.32), # Hjørring-Larvik\n",
    "                'PL': (520,222)} # Swinoujscie\n",
    "    \n",
    "elif switch['location'] == 'DE Wind':\n",
    "    distance = {'DK': (495.15,0), #  \n",
    "                'DE': (401.42,0), # \n",
    "                'CZ': (850,0), # \n",
    "                'NL': (296.54,0), # \n",
    "                'BE': (554,0)} # \n",
    "\n",
    "elif switch['location'] == 'DE Solar':\n",
    "    distance = {'CZ': (623,0), #  \n",
    "                'DE': (516.3,0), # \n",
    "                'AT': (270.26,0), # \n",
    "                'CH': (441.79,0), # \n",
    "                'FR': (1167.67,0)} #\n",
    "    \n",
    "elif switch['location'] == 'NO Wind':\n",
    "    distance = {'DK': (498.83,140.4), # Kristiansand-Hjørring \n",
    "                'SE': (758.43,0), # \n",
    "                'NO': (485,0), # \n",
    "                'GB': (483.61,496.4)} # Aberdeen\n",
    "    \n",
    "elif switch['location'] == 'NO Solar':\n",
    "    distance = {'DK': (306.31,182.32), #  \n",
    "                'SE': (381.37,0), # \n",
    "                'NO': (251.19,0), # \n",
    "                'GB': (237.63,708.46)} # Newcastle upon Tyne \n",
    "    \n",
    "elif switch['location'] == 'NL Wind':\n",
    "    distance = {'DK': (118.5,316.37), # Ribe \n",
    "                'DE': (538.41,0), # \n",
    "                'GB': (175,328.21), # Hull\n",
    "                'NL': (152.32,0), # \n",
    "                'BE': (360.37,0)} # \n",
    "    \n",
    "elif switch['location'] == 'NL Solar':\n",
    "    distance = {'DK': (118.5,387.97), # Ribe \n",
    "                'DE': (582,0), # \n",
    "                'BE': (295.44,0), # \n",
    "                'NL': (124.44,0), # \n",
    "                'GB': (173.85,353.46)} # Hull\n",
    "    \n",
    "elif switch['location'] == 'GB Wind':\n",
    "    distance = {'BE': (497.51,315.87), # London-Antwerp\n",
    "                'IE': (378.67,254.88), # Kendal-Dublin\n",
    "                'FR': (965.12,205.3), # Southampton-Caen\n",
    "                'NL': (542.16,245.48), # Colchester-Rotterdam\n",
    "                'GB': (87.28,0)} # \n",
    "    \n",
    "elif switch['location'] == 'GB Solar':\n",
    "    distance = {'FR': (593.73,50.54), # Calais\n",
    "                'BE': (79.76,224.75), # Antwerp\n",
    "                'IR': (758.39,108.14), # Holyhead-Dublin\n",
    "                'NL': (105.82,245.15), # Rotterdam\n",
    "                'GB': (505.98,0)} #"
   ]
  },
  {
   "cell_type": "code",
   "execution_count": 7,
   "metadata": {},
   "outputs": [],
   "source": [
    "network = pypsa.Network()\n",
    "\n",
    "network.set_snapshots(t)\n",
    "\n",
    "network.add('Bus', 'Electricity')\n",
    "network.add('Bus', switch['fuel'])"
   ]
  },
  {
   "cell_type": "code",
   "execution_count": 8,
   "metadata": {},
   "outputs": [],
   "source": [
    "network.add('Link',\n",
    "            switch['fuel']+' Plant',\n",
    "            bus0 = 'Electricity',\n",
    "            bus1 = switch['fuel'],\n",
    "            p_nom_extendable = True,\n",
    "            #p_nom_max = 1000,\n",
    "            #p_nom_min = 5319.719576,\n",
    "            efficiency = eff[switch['fuel']+' Plant'],\n",
    "            capital_cost = ccost[switch['fuel']+' Plant'],\n",
    "            marginal_cost = costdata.loc['VOM'][switch['fuel']+' Plant']*eff[switch['fuel']+' Plant'])"
   ]
  },
  {
   "cell_type": "code",
   "execution_count": 9,
   "metadata": {},
   "outputs": [],
   "source": [
    "network.add('Load',\n",
    "            'Fuel Demand',\n",
    "            bus = switch['fuel'],\n",
    "            p_set = load)\n",
    "\n",
    "network.add('StorageUnit',\n",
    "            'Free Tank',\n",
    "            bus = switch['fuel'],\n",
    "            cyclic_state_of_charge = True,\n",
    "            p_nom_extendable = True)"
   ]
  },
  {
   "cell_type": "code",
   "execution_count": 10,
   "metadata": {},
   "outputs": [],
   "source": [
    "if switch['wind']:\n",
    "    windname = 'Onshore Wind' if plants['onshore'][switch['location']] else 'Offshore Wind'\n",
    "    network.add('Generator',\n",
    "                windname,\n",
    "                bus = 'Electricity',\n",
    "                p_nom_extendable = True,\n",
    "                #p_nom_max = 10000,\n",
    "                #p_nom_min = 5292.263671,\n",
    "                capital_cost = ccost[windname],\n",
    "                marginal_cost = costdata.loc['VOM'][windname],\n",
    "                p_max_pu = cf['Wind'])\n",
    "\n",
    "if switch['solar']:\n",
    "    network.add('Generator',\n",
    "                'Solar PV',\n",
    "                bus = 'Electricity',\n",
    "                p_nom_extendable = True,\n",
    "                #p_nom_max = 10000 if plants['onshore'][switch['location']] else 46,\n",
    "                #p_nom_min = 1139.036028,\n",
    "                capital_cost = ccost['Solar PV'],\n",
    "                marginal_cost = costdata.loc['VOM']['Solar PV'],\n",
    "                p_max_pu = cf['PV'])"
   ]
  },
  {
   "cell_type": "code",
   "execution_count": 11,
   "metadata": {},
   "outputs": [],
   "source": [
    "if switch['battery']:\n",
    "    network.add('StorageUnit',\n",
    "                'Battery',\n",
    "                bus = 'Electricity',\n",
    "                cyclic_state_of_charge = True,\n",
    "                p_nom_extendable = True,\n",
    "                #p_nom_max = 1000,\n",
    "                #p_nom_min = 0,\n",
    "                capital_cost = ccost['Battery'],\n",
    "                marginal_cost = costdata.loc['VOM']['Battery'],\n",
    "                efficiency_store = eff['Battery'],\n",
    "                efficiency_dispatch = eff['Battery'],\n",
    "                max_hours = h_b)"
   ]
  },
  {
   "cell_type": "code",
   "execution_count": 12,
   "metadata": {},
   "outputs": [],
   "source": [
    "# Countries\n",
    "if switch['connection']:\n",
    "    mcost = pd.read_csv('data/market/price_%d.csv'%switch['year'], index_col = 0).set_index(t)\n",
    "    load = pd.read_csv('data/market/load_%d.csv'%switch['year'], index_col = 0).set_index(t)\n",
    "    for country in distance.keys():\n",
    "        network.add('Bus', country)\n",
    "\n",
    "        network.add('Generator',\n",
    "                    'Elec_'+country,\n",
    "                    bus = country,\n",
    "                    p_nom_extendable = True,\n",
    "                    marginal_cost = mcost[country])\n",
    "        network.add('Load',\n",
    "                    'Load_'+country, \n",
    "                    bus = country, \n",
    "                    p_set = load[country])\n",
    "\n",
    "        cccost = (annuity(40,0.07)+0.02)*(400*distance[country][0]*dfr+2000*distance[country][1]*dfr+150000)\n",
    "        cmcost = 0.01\n",
    "        ceff = 1-(1-eff['HVDC'])*sum(distance[country])*dfr/1000\n",
    "        if switch['link_constraint']:\n",
    "            network.add('Link',\n",
    "                        '%s to %s'%(switch['location'],country),\n",
    "                        bus0 = 'Electricity',\n",
    "                        bus1 = country,\n",
    "                        p_nom_extendable = True,\n",
    "                        p_nom_max = 1500,\n",
    "                        efficiency = ceff,\n",
    "                        capital_cost = cccost/2,\n",
    "                        marginal_cost = cmcost)\n",
    "            network.add('Link',\n",
    "                        '%s to %s'%(country,switch['location']),\n",
    "                        bus0 = country,\n",
    "                        bus1 = 'Electricity',\n",
    "                        p_nom_extendable = True,\n",
    "                        p_nom_max = 1500,\n",
    "                        efficiency = ceff,\n",
    "                        capital_cost = cccost/2,\n",
    "                        marginal_cost = cmcost)\n",
    "        else:\n",
    "            network.add('Bus', country+' Hub 1') # close to plant\n",
    "            network.add('Bus', country+' Hub 2') # close to country\n",
    "\n",
    "            network.add('Link',\n",
    "                        '%s to %s Hub 1'%(switch['location'],country),\n",
    "                        bus0 = 'Electricity',\n",
    "                        bus1 = country+' Hub 1',\n",
    "                        p_nom_extendable = True)\n",
    "            network.add('Link',\n",
    "                        '%s Hub 1 to %s'%(country,switch['location']),\n",
    "                        bus0 = country+' Hub 1',\n",
    "                        bus1 = 'Electricity',\n",
    "                        p_nom_extendable = True,\n",
    "                        efficiency = ceff,\n",
    "                        marginal_cost = cmcost)\n",
    "            network.add('Link',\n",
    "                        '%s Hub 1 and %s Hub 2'%(country,country), \n",
    "                        bus0 = country+' Hub 1',\n",
    "                        bus1 = country+' Hub 2',\n",
    "                        p_nom_extendable = True,\n",
    "                        p_nom_max = 1500,\n",
    "                        p_min_pu = -1,\n",
    "                        capital_cost = cccost) # marta\n",
    "            network.add('Link',\n",
    "                        '%s to %s Hub 2'%(country,country),\n",
    "                        bus0 = country,\n",
    "                        bus1 = country+' Hub 2',\n",
    "                        p_nom_extendable = True)\n",
    "            network.add('Link',\n",
    "                        '%s Hub 2 to %s'%(country,country),\n",
    "                        bus0 = country+' Hub 2',\n",
    "                        bus1 = country,\n",
    "                        p_nom_extendable = True,\n",
    "                        efficiency = ceff,\n",
    "                        marginal_cost = cmcost)\n",
    "else:\n",
    "    switch['link_constraint'] = False"
   ]
  },
  {
   "cell_type": "code",
   "execution_count": 13,
   "metadata": {},
   "outputs": [],
   "source": [
    "if switch['link_constraint']:\n",
    "    def add_cable_constrants(network):\n",
    "        p = pypsa.linopt.get_var(network, 'Link', 'p_nom')\n",
    "        pout = p.loc[['%s to %s'%(switch['location'],country) for country in distance.keys()]]\n",
    "        pin = p.loc[['%s to %s'%(country,switch['location']) for country in distance.keys()]]\n",
    "        lhs = pypsa.linopt.linexpr((1,pout.reset_index(drop = True)),(-1,pin.reset_index(drop = True)))\n",
    "        pypsa.linopt.define_constraints(network, lhs, '=', 0, 'Cable')\n",
    "\n",
    "    def extra_functionality(network, snapshots):\n",
    "        add_cable_constrants(network)"
   ]
  },
  {
   "cell_type": "code",
   "execution_count": 14,
   "metadata": {},
   "outputs": [
    {
     "name": "stderr",
     "output_type": "stream",
     "text": [
      "INFO:pypsa.linopf:Prepare linear problem\n",
      "INFO:pypsa.linopf:Total preparation time: 3.84s\n",
      "INFO:pypsa.linopf:Solve linear problem using Gurobi solver\n"
     ]
    },
    {
     "name": "stdout",
     "output_type": "stream",
     "text": [
      "Set parameter Username\n",
      "Academic license - for non-commercial use only - expires 2022-10-03\n",
      "Read LP format model from file /var/folders/3f/817ykyb972j227v95ln_qw480000gn/T/pypsa-problem-bvoqyg5i.lp\n",
      "Reading time = 1.94 seconds\n",
      "obj: 849720 rows, 341676 columns, 1686242 nonzeros\n",
      "Gurobi Optimizer version 9.5.1 build v9.5.1rc2 (mac64[x86])\n",
      "Thread count: 4 physical cores, 8 logical processors, using up to 8 threads\n",
      "Optimize a model with 849720 rows, 341676 columns and 1686242 nonzeros\n",
      "Model fingerprint: 0x8fb1bd49\n",
      "Coefficient statistics:\n",
      "  Matrix range     [4e-06, 6e+00]\n",
      "  Objective range  [1e-02, 2e+05]\n",
      "  Bounds range     [2e+03, 2e+03]\n",
      "  RHS range        [2e+03, 7e+04]\n",
      "\n",
      "Concurrent LP optimizer: dual simplex and barrier\n",
      "Showing barrier log only...\n",
      "\n",
      "Presolve removed 600118 rows and 65785 columns\n",
      "Presolve time: 1.51s\n",
      "Presolved: 249602 rows, 275891 columns, 853926 nonzeros\n",
      "\n",
      "Ordering time: 0.04s\n",
      "\n",
      "Barrier statistics:\n",
      " Dense cols : 9\n",
      " AA' NZ     : 5.605e+05\n",
      " Factor NZ  : 2.576e+06 (roughly 230 MB of memory)\n",
      " Factor Ops : 4.066e+07 (less than 1 second per iteration)\n",
      " Threads    : 3\n",
      "\n",
      "                  Objective                Residual\n",
      "Iter       Primal          Dual         Primal    Dual     Compl     Time\n",
      "   0   2.88840364e+11  4.83993029e+10  1.76e+05 3.98e+03  7.03e+09     2s\n",
      "   1   2.86870504e+11 -3.70815284e+13  1.39e+05 2.97e+04  2.64e+09     2s\n",
      "   2   2.78219984e+11 -4.49978662e+13  1.27e+05 1.65e+04  2.96e+09     2s\n",
      "   3   3.25786832e+11 -3.70302834e+13  7.12e+03 3.06e+03  3.64e+08     3s\n",
      "   4   2.92764702e+11 -9.40546474e+12  1.14e-08 2.38e+02  3.72e+07     3s\n",
      "   5   1.52777703e+11 -1.23882997e+12  1.79e-08 3.10e+01  5.17e+06     3s\n",
      "   6   1.02664331e+11 -3.01220444e+11  1.05e-08 8.77e+00  1.44e+06     3s\n",
      "   7   7.61016916e+10 -2.88057102e+10  1.80e-08 1.75e+00  3.49e+05     3s\n",
      "   8   6.45130100e+10  3.26298548e+10  9.17e-09 3.69e-01  9.50e+04     4s\n",
      "   9   5.85325790e+10  4.59171190e+10  1.22e-08 1.20e-01  3.44e+04     4s\n",
      "  10   5.60617143e+10  4.88595705e+10  1.57e-08 6.53e-02  1.90e+04     4s\n",
      "  11   5.46020623e+10  5.00416451e+10  1.89e-08 4.44e-02  1.18e+04     4s\n",
      "  12   5.41849494e+10  5.10965596e+10  2.66e-08 2.71e-02  7.88e+03     5s\n",
      "  13   5.35528521e+10  5.17089733e+10  3.10e-08 1.72e-02  4.67e+03     5s\n",
      "  14   5.31017426e+10  5.22269042e+10  1.70e-07 8.05e-03  2.20e+03     5s\n",
      "  15   5.28948140e+10  5.24224052e+10  9.12e-07 4.54e-03  1.19e+03     5s\n",
      "  16   5.28087311e+10  5.25216494e+10  3.62e-06 2.77e-03  7.23e+02     5s\n",
      "  17   5.27641431e+10  5.25655577e+10  9.13e-06 2.01e-03  5.02e+02     6s\n",
      "  18   5.27469239e+10  5.25924396e+10  2.15e-05 1.54e-03  3.91e+02     6s\n",
      "  19   5.27246762e+10  5.26142773e+10  5.59e-05 1.17e-03  2.81e+02     6s\n",
      "  20   5.27102074e+10  5.26317262e+10  7.70e-05 8.73e-04  2.01e+02     7s\n",
      "  21   5.27011343e+10  5.26456716e+10  1.11e-04 6.34e-04  1.43e+02     7s\n",
      "  22   5.26972603e+10  5.26604419e+10  1.22e-04 3.90e-04  9.44e+01     7s\n",
      "  23   5.26935757e+10  5.26632884e+10  1.23e-04 3.39e-04  7.79e+01     8s\n",
      "  24   5.26910617e+10  5.26671339e+10  1.23e-04 2.66e-04  6.16e+01     8s\n",
      "  25   5.26892371e+10  5.26701095e+10  1.33e-04 2.12e-04  4.93e+01     9s\n",
      "  26   5.26876102e+10  5.26720113e+10  1.41e-04 1.76e-04  4.02e+01     9s\n",
      "  27   5.26860318e+10  5.26738612e+10  1.53e-04 1.41e-04  3.15e+01     9s\n",
      "  28   5.26851252e+10  5.26753774e+10  1.65e-04 1.13e-04  2.53e+01    10s\n",
      "  29   5.26844638e+10  5.26764517e+10  1.82e-04 9.31e-05  2.08e+01    10s\n",
      "  30   5.26838798e+10  5.26781451e+10  1.95e-04 6.19e-05  1.48e+01    10s\n",
      "  31   5.26834730e+10  5.26786299e+10  2.19e-04 5.25e-05  1.25e+01    11s\n",
      "  32   5.26831955e+10  5.26788593e+10  2.13e-04 4.84e-05  1.12e+01    11s\n",
      "  33   5.26830499e+10  5.26789806e+10  2.11e-04 4.61e-05  1.05e+01    11s\n",
      "  34   5.26827355e+10  5.26795493e+10  1.95e-04 3.55e-05  8.25e+00    12s\n",
      "  35   5.26825701e+10  5.26798357e+10  1.66e-04 2.99e-05  7.07e+00    12s\n",
      "  36   5.26823335e+10  5.26800625e+10  1.20e-04 2.56e-05  5.89e+00    13s\n",
      "  37   5.26822243e+10  5.26804233e+10  1.12e-04 1.89e-05  4.65e+00    13s\n",
      "  38   5.26821334e+10  5.26805383e+10  9.91e-05 1.67e-05  4.12e+00    13s\n",
      "  39   5.26821077e+10  5.26805685e+10  9.62e-05 1.61e-05  3.97e+00    14s\n",
      "  40   5.26819559e+10  5.26806658e+10  7.44e-05 1.42e-05  3.34e+00    14s\n",
      "  41   5.26818896e+10  5.26807485e+10  6.80e-05 1.26e-05  2.96e+00    14s\n",
      "  42   5.26818495e+10  5.26808437e+10  6.20e-05 1.07e-05  2.60e+00    15s\n",
      "  43   5.26818294e+10  5.26808527e+10  5.82e-05 1.06e-05  2.53e+00    15s\n",
      "  44   5.26817457e+10  5.26809567e+10  3.70e-05 8.56e-06  2.04e+00    16s\n",
      "  45   5.26817151e+10  5.26810386e+10  3.33e-05 7.00e-06  1.75e+00    16s\n",
      "  46   5.26816755e+10  5.26810725e+10  3.35e-05 6.34e-06  1.56e+00    16s\n",
      "  47   5.26816183e+10  5.26811131e+10  2.87e-05 5.52e-06  1.31e+00    17s\n",
      "  48   5.26815816e+10  5.26811386e+10  2.47e-05 5.01e-06  1.15e+00    17s\n",
      "  49   5.26815768e+10  5.26811539e+10  2.26e-05 4.70e-06  1.10e+00    17s\n",
      "  50   5.26815457e+10  5.26811794e+10  1.86e-05 4.22e-06  9.52e-01    18s\n",
      "  51   5.26815289e+10  5.26812080e+10  1.88e-05 3.69e-06  8.33e-01    18s\n",
      "  52   5.26815041e+10  5.26812355e+10  1.78e-05 3.16e-06  6.99e-01    19s\n",
      "  53   5.26815015e+10  5.26812417e+10  1.86e-05 3.03e-06  6.76e-01    19s\n",
      "  54   5.26814861e+10  5.26812654e+10  7.23e-06 2.56e-06  5.74e-01    19s\n",
      "  55   5.26814783e+10  5.26812807e+10  7.19e-06 2.24e-06  5.13e-01    19s\n",
      "  56   5.26814614e+10  5.26812912e+10  1.18e-05 2.04e-06  4.43e-01    20s\n",
      "  57   5.26814557e+10  5.26812962e+10  1.12e-05 1.95e-06  4.16e-01    21s\n",
      "  58   5.26814434e+10  5.26813175e+10  3.62e-06 1.57e-06  3.29e-01    21s\n",
      "  59   5.26814364e+10  5.26813268e+10  4.21e-06 1.39e-06  2.87e-01    21s\n",
      "  60   5.26814288e+10  5.26813380e+10  8.68e-06 1.17e-06  2.38e-01    22s\n",
      "  61   5.26814241e+10  5.26813449e+10  7.27e-06 1.04e-06  2.08e-01    22s\n",
      "  62   5.26814173e+10  5.26813478e+10  1.61e-05 9.87e-07  1.83e-01    23s\n",
      "  63   5.26814158e+10  5.26813580e+10  1.48e-05 7.93e-07  1.52e-01    23s\n",
      "  64   5.26814127e+10  5.26813607e+10  1.79e-05 7.38e-07  1.37e-01    23s\n",
      "  65   5.26814116e+10  5.26813663e+10  1.64e-05 6.26e-07  1.19e-01    24s\n",
      "  66   5.26814058e+10  5.26813815e+10  1.14e-05 3.22e-07  6.38e-02    24s\n",
      "  67   5.26814025e+10  5.26813827e+10  8.17e-06 2.99e-07  5.24e-02    25s\n",
      "  68   5.26814012e+10  5.26813868e+10  6.39e-06 2.20e-07  3.82e-02    25s\n",
      "  69   5.26814009e+10  5.26813902e+10  5.79e-06 1.54e-07  2.84e-02    25s\n",
      "  70   5.26813990e+10  5.26813968e+10  2.06e-06 2.28e-08  5.78e-03    25s\n",
      "  71   5.26813981e+10  5.26813971e+10  1.40e-07 1.70e-08  2.78e-03    26s\n",
      "  72   5.26813981e+10  5.26813976e+10  1.63e-07 7.40e-09  1.31e-03    26s\n",
      "  73   5.26813981e+10  5.26813977e+10  8.87e-08 6.43e-09  1.10e-03    26s\n",
      "\n",
      "Barrier solved model in 73 iterations and 26.13 seconds (9.76 work units)\n",
      "Optimal objective 5.26813981e+10\n",
      "\n",
      "Crossover log...\n",
      "\n",
      "   43509 DPushes remaining with DInf 0.0000000e+00                26s\n",
      "       0 DPushes remaining with DInf 0.0000000e+00                29s\n",
      "\n",
      "  158863 PPushes remaining with PInf 0.0000000e+00                29s\n",
      "   15904 PPushes remaining with PInf 1.1594495e-01                55s\n",
      "   13351 PPushes remaining with PInf 1.2229205e-01                55s\n",
      "    6802 PPushes remaining with PInf 1.5362478e-01                65s\n",
      "       0 PPushes remaining with PInf 0.0000000e+00                80s\n",
      "\n",
      "  Push phase complete: Pinf 0.0000000e+00, Dinf 7.9960536e+03     80s\n",
      "\n",
      "Iteration    Objective       Primal Inf.    Dual Inf.      Time\n",
      "  184610    5.2681398e+10   0.000000e+00   7.996054e+03     80s\n",
      "Extra simplex iterations after uncrush: 1\n",
      "  187376    5.2681398e+10   0.000000e+00   0.000000e+00     83s\n",
      "\n",
      "Solved with barrier\n",
      "Solved in 187376 iterations and 82.54 seconds (94.33 work units)\n",
      "Optimal objective  5.268139804e+10\n"
     ]
    },
    {
     "name": "stderr",
     "output_type": "stream",
     "text": [
      "INFO:pypsa.linopf:Optimization successful. Objective value: 5.27e+10\n"
     ]
    },
    {
     "data": {
      "text/plain": [
       "('ok', 'optimal')"
      ]
     },
     "execution_count": 14,
     "metadata": {},
     "output_type": "execute_result"
    }
   ],
   "source": [
    "network.lopf(network.snapshots,\n",
    "             pyomo = False,\n",
    "             extra_functionality = extra_functionality if switch['link_constraint'] else None,\n",
    "             solver_name = 'gurobi')"
   ]
  },
  {
   "cell_type": "code",
   "execution_count": 15,
   "metadata": {},
   "outputs": [
    {
     "data": {
      "text/plain": [
       "85.30660399355128"
      ]
     },
     "execution_count": 15,
     "metadata": {},
     "output_type": "execute_result"
    }
   ],
   "source": [
    "((sum(network.buses_t.marginal_price['Electricity']*network.links_t.p0[switch['fuel']+' Plant'])\n",
    "+network.links.capital_cost[switch['fuel']+' Plant']*network.links.p_nom_opt[switch['fuel']+' Plant']\n",
    "+network.links.marginal_cost[switch['fuel']+' Plant']*network.links_t.p0[switch['fuel']+' Plant'].sum())\n",
    "/sum(network.loads_t.p['Fuel Demand']))"
   ]
  },
  {
   "cell_type": "code",
   "execution_count": 16,
   "metadata": {},
   "outputs": [
    {
     "data": {
      "text/plain": [
       "(85.30660423161247, 85.30660423161244)"
      ]
     },
     "execution_count": 16,
     "metadata": {},
     "output_type": "execute_result"
    }
   ],
   "source": [
    "(network.buses_t.marginal_price[switch['fuel']].max(),network.buses_t.marginal_price[switch['fuel']].min())"
   ]
  },
  {
   "cell_type": "code",
   "execution_count": 17,
   "metadata": {},
   "outputs": [
    {
     "data": {
      "text/plain": [
       "52681398035.30189"
      ]
     },
     "execution_count": 17,
     "metadata": {},
     "output_type": "execute_result"
    }
   ],
   "source": [
    "network.objective"
   ]
  },
  {
   "cell_type": "code",
   "execution_count": 18,
   "metadata": {},
   "outputs": [],
   "source": [
    "if not switch['connection']: print(network.objective/sum(network.loads_t.p['Fuel Demand']))"
   ]
  },
  {
   "cell_type": "raw",
   "metadata": {},
   "source": [
    "'LFC'/eff[switch['fuel']+' Engine'] # €/MWh"
   ]
  },
  {
   "cell_type": "code",
   "execution_count": 19,
   "metadata": {
    "scrolled": true
   },
   "outputs": [
    {
     "data": {
      "text/plain": [
       "Offshore Wind     7782.898623\n",
       "Solar PV            73.032931\n",
       "Elec_DK           6543.456594\n",
       "Elec_DE          72258.586184\n",
       "Elec_NO          19764.446790\n",
       "Elec_NL          18248.449754\n",
       "Elec_GB          46336.880376\n",
       "Name: p_nom_opt, dtype: float64"
      ]
     },
     "execution_count": 19,
     "metadata": {},
     "output_type": "execute_result"
    }
   ],
   "source": [
    "network.generators.p_nom_opt # in MW"
   ]
  },
  {
   "cell_type": "code",
   "execution_count": 20,
   "metadata": {},
   "outputs": [
    {
     "data": {
      "text/plain": [
       "Free Tank    434473.706148\n",
       "Battery           0.000000\n",
       "Name: p_nom_opt, dtype: float64"
      ]
     },
     "execution_count": 20,
     "metadata": {},
     "output_type": "execute_result"
    }
   ],
   "source": [
    "network.storage_units.p_nom_opt"
   ]
  },
  {
   "cell_type": "code",
   "execution_count": 21,
   "metadata": {
    "scrolled": false
   },
   "outputs": [
    {
     "data": {
      "text/plain": [
       "NH3 Plant                    2890.552254\n",
       "Energy Island to DK Hub 1    1500.000000\n",
       "DK Hub 1 to Energy Island    1500.000000\n",
       "DK Hub 1 and DK Hub 2        1500.000000\n",
       "DK to DK Hub 2               1500.000000\n",
       "DK Hub 2 to DK               1500.000000\n",
       "Energy Island to DE Hub 1    1500.000000\n",
       "DE Hub 1 to Energy Island    1500.000000\n",
       "DE Hub 1 and DE Hub 2        1500.000000\n",
       "DE to DE Hub 2               1500.000000\n",
       "DE Hub 2 to DE               1500.000000\n",
       "Energy Island to NO Hub 1    1500.000000\n",
       "NO Hub 1 to Energy Island    1500.000000\n",
       "NO Hub 1 and NO Hub 2        1500.000000\n",
       "NO to NO Hub 2               1500.000000\n",
       "NO Hub 2 to NO               1500.000000\n",
       "Energy Island to NL Hub 1    1500.000000\n",
       "NL Hub 1 to Energy Island    1500.000000\n",
       "NL Hub 1 and NL Hub 2        1500.000000\n",
       "NL to NL Hub 2               1500.000000\n",
       "NL Hub 2 to NL               1500.000000\n",
       "Energy Island to GB Hub 1    1500.000000\n",
       "GB Hub 1 to Energy Island    1500.000000\n",
       "GB Hub 1 and GB Hub 2        1500.000000\n",
       "GB to GB Hub 2               1500.000000\n",
       "GB Hub 2 to GB               1500.000000\n",
       "Name: p_nom_opt, dtype: float64"
      ]
     },
     "execution_count": 21,
     "metadata": {},
     "output_type": "execute_result"
    }
   ],
   "source": [
    "network.links.p_nom_opt # in MW"
   ]
  },
  {
   "cell_type": "raw",
   "metadata": {},
   "source": [
    "plt.figure(figsize = (10,10), dpi = 150)\n",
    "\n",
    "plt.subplot(211)\n",
    "plt.plot(network.loads_t.p['Fuel Demand']['%d-01-01 00:00'%switch['year']:'%d-01-08 00:00'%switch['year']], '--',\n",
    "         c = 'grey', label = 'Fuel Demand')\n",
    "plt.plot(network.links_t.p0[switch['fuel']+' Plant']['%d-01-01 00:00'%switch['year']:'%d-01-08 00:00'%switch['year']],\n",
    "         c = 'black', label = 'Electricity Generation')\n",
    "if switch['wind']:\n",
    "    plt.plot(network.generators_t.p['Offshore Wind']['%d-01-01 00:00'%switch['year']:'%d-01-08 00:00'%switch['year']],\n",
    "             c = 'deepskyblue', label = 'Offshore Wind')\n",
    "if switch['solar']:\n",
    "    plt.plot(network.generators_t.p['Solar PV']['%d-01-01 00:00'%switch['year']:'%d-01-08 00:00'%switch['year']],\n",
    "             c = 'darkorange', label = 'Solar PV')\n",
    "if switch['battery']:\n",
    "    plt.plot(network.storage_units_t.p['Battery']['%d-01-01 00:00'%switch['year']:'%d-01-08 00:00'%switch['year']],\n",
    "             c = 'limegreen', label = 'Battery')\n",
    "plt.ylabel('Power (MW)')\n",
    "plt.legend(loc = 'upper right')\n",
    "\n",
    "plt.subplot(212)\n",
    "plt.plot(network.loads_t.p['Fuel Demand']['%d-07-01 00:00'%switch['year']:'%d-07-08 00:00'%switch['year']], '--',\n",
    "         c = 'grey', label = 'Fuel Demand')\n",
    "plt.plot(network.links_t.p0[switch['fuel']+' Plant']['%d-07-01 00:00'%switch['year']:'%d-07-08 00:00'%switch['year']],\n",
    "         c = 'black', label = 'Electricity Generation')\n",
    "if switch['wind']:\n",
    "    plt.plot(network.generators_t.p['Offshore Wind']['%d-07-01 00:00'%switch['year']:'%d-07-08 00:00'%switch['year']],\n",
    "             c = 'deepskyblue', label = 'Offshore Wind')\n",
    "if switch['solar']:\n",
    "    plt.plot(network.generators_t.p['Solar PV']['%d-07-01 00:00'%switch['year']:'%d-07-08 00:00'%switch['year']],\n",
    "             c = 'darkorange', label = 'Solar PV')\n",
    "if switch['battery']:\n",
    "    plt.plot(network.storage_units_t.p['Battery']['%d-07-01 00:00'%switch['year']:'%d-07-08 00:00'%switch['year']],\n",
    "             c = 'limegreen', label = 'Battery')\n",
    "plt.ylabel('Power (MW)')\n",
    "plt.legend(loc = 'upper right')\n",
    "\n",
    "plt.show()"
   ]
  },
  {
   "cell_type": "raw",
   "metadata": {},
   "source": [
    "plt.figure(figsize = (10,5), dpi = 150)\n",
    "plt.plot(network.loads_t.p['Fuel Demand'], '--', c = 'grey', label = 'Fuel Demand')\n",
    "plt.plot(network.links_t.p0[switch['fuel']+' Plant'], c = 'black', label = 'Electricity Generation')\n",
    "if switch['wind']:\n",
    "    plt.plot(network.generators_t.p['Offshore Wind'], c = 'deepskyblue', label = 'Offshore Wind')\n",
    "if switch['solar']:\n",
    "    plt.plot(network.generators_t.p['Solar PV'], c = 'darkorange', label = 'Solar PV')\n",
    "if switch['battery']:\n",
    "    plt.plot(network.storage_units_t.p['Battery'], c = 'limegreen', label = 'Battery')\n",
    "plt.ylabel('Power (MW)')\n",
    "plt.legend(loc = 'upper right')\n",
    "plt.show()"
   ]
  },
  {
   "cell_type": "raw",
   "metadata": {},
   "source": [
    "x = np.arange(np.shape(t)[0])\n",
    "plt.figure(figsize = (6,4), dpi = 150)\n",
    "plt.plot(x, network.links_t.p0[switch['fuel']+' Plant'].sort_values(ascending = False),\n",
    "         c = 'black', label = 'Electricity Generation')\n",
    "if switch['wind']:\n",
    "    plt.plot(x, network.generators_t.p['Offshore Wind'].sort_values(ascending = False),\n",
    "             c = 'deepskyblue', label = 'Offshore Wind')\n",
    "if switch['solar']:\n",
    "    plt.plot(x, network.generators_t.p['Solar PV'].sort_values(ascending = False),\n",
    "             c = 'darkorange', label = 'Solar PV')\n",
    "if switch['battery']:\n",
    "    plt.plot(x, network.storage_units_t.p['Battery'].sort_values(ascending = False),\n",
    "             c = 'limegreen', label = 'Battery')\n",
    "plt.xlim(0, np.shape(t)[0]-1)\n",
    "plt.xlabel('Hours')\n",
    "plt.ylabel('Power (MW)')\n",
    "plt.legend(loc = 'upper right')\n",
    "plt.show()"
   ]
  },
  {
   "cell_type": "raw",
   "metadata": {},
   "source": [
    "if switch['wind'] & switch['solar']:\n",
    "    plt.figure(figsize = (3, 3), dpi = 150)\n",
    "    plt.pie([network.generators_t.p['Offshore Wind'].sum(),\n",
    "             network.generators_t.p['Solar PV'].sum()], \n",
    "            colors = ['deepskyblue','darkorange'], \n",
    "            labels = ['Offshore Wind','Solar PV'], \n",
    "            autopct = '%1.1f%%')\n",
    "    plt.axis('equal')\n",
    "    plt.show()\n",
    "\n",
    "labels = []\n",
    "sizes = []\n",
    "colors = []\n",
    "if switch['wind']:\n",
    "    labels.append('Offshore Wind')\n",
    "    sizes.append(network.generators.capital_cost['Offshore Wind']*network.generators.p_nom_opt['Offshore Wind']\n",
    "                 +network.generators.marginal_cost['Offshore Wind']*network.generators_t.p.sum()['Offshore Wind'])\n",
    "    colors.append('deepskyblue')\n",
    "if switch['solar']:\n",
    "    labels.append('Solar PV')\n",
    "    sizes.append(network.generators.capital_cost['Solar PV']*network.generators.p_nom_opt['Solar PV']\n",
    "                 +network.generators.marginal_cost['Solar PV']*network.generators_t.p.sum()['Solar PV'])\n",
    "    colors.append('darkorange')\n",
    "labels.append(switch['fuel']+' Plant')\n",
    "sizes.append(network.links.capital_cost[switch['fuel']+' Plant']*network.links.p_nom_opt[switch['fuel']+' Plant']\n",
    "             +network.links.marginal_cost[switch['fuel']+' Plant']*network.links_t.p0.sum()[switch['fuel']+' Plant'])\n",
    "colors.append('brown')\n",
    "if switch['battery']:\n",
    "    labels.append('Battery')\n",
    "    sizes.append(network.storage_units.capital_cost['Battery']*network.storage_units.p_nom_opt['Battery'])\n",
    "    colors.append('limegreen')\n",
    "\n",
    "plt.figure(figsize = (3, 3), dpi = 150)\n",
    "plt.pie(sizes, \n",
    "        colors = colors, \n",
    "        labels = labels, \n",
    "        autopct = '%1.1f%%')\n",
    "plt.axis('equal')\n",
    "plt.show()"
   ]
  }
 ],
 "metadata": {
  "kernelspec": {
   "display_name": "Python 3",
   "language": "python",
   "name": "python3"
  },
  "language_info": {
   "codemirror_mode": {
    "name": "ipython",
    "version": 3
   },
   "file_extension": ".py",
   "mimetype": "text/x-python",
   "name": "python",
   "nbconvert_exporter": "python",
   "pygments_lexer": "ipython3",
   "version": "3.7.9"
  }
 },
 "nbformat": 4,
 "nbformat_minor": 4
}
