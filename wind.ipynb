{
 "cells": [
  {
   "cell_type": "code",
   "execution_count": 1,
   "metadata": {},
   "outputs": [],
   "source": [
    "import numpy as np\n",
    "import pandas as pd\n",
    "from scipy import integrate\n",
    "from scipy import interpolate\n",
    "import matplotlib.pyplot as plt"
   ]
  },
  {
   "cell_type": "raw",
   "metadata": {},
   "source": [
    "# Rayleigh distribution\n",
    "import sympy as sp\n",
    "def rayleigh(v,alpha):\n",
    "    return 2*v/alpha**2*sp.exp(-(v/alpha)**2)\n",
    "\n",
    "v = sp.Symbol('v')\n",
    "alpha = sp.Symbol('alpha')\n",
    "sp.integrate(v*rayleigh(v,alpha), (v, 0, np.inf))\n",
    "\n",
    "alpha = 2*v/np.sqrt(np.pi)"
   ]
  },
  {
   "cell_type": "code",
   "execution_count": 2,
   "metadata": {},
   "outputs": [],
   "source": [
    "def gaussian(v,v0):\n",
    "    # experiment\n",
    "    sigma = 1.5*(v0<=5) + 0.3*v0*(v0>5)*(v0<=10) + 3.*(v0>10)\n",
    "    return np.exp(-0.5*((v-v0)/sigma)**2)/sigma/np.sqrt(2*np.pi)\n",
    "\n",
    "class Wind_Turbine:\n",
    "    def __init__(self, rated_power, cutin_speed, rated_speed, cutout_speed, power, velocity):\n",
    "        self.rated_power = rated_power\n",
    "        self.cutin_speed = cutin_speed\n",
    "        self.rated_speed = rated_speed\n",
    "        self.cutout_speed = cutout_speed\n",
    "        self.partial_pc = interpolate.interp1d(velocity, power, 'cubic', fill_value = 'extrapolate')\n",
    "    \n",
    "    def single_pc(self, v):\n",
    "        v = abs(v)\n",
    "        return (0.*(v<=self.cutin_speed) + self.partial_pc(v)*(v>self.cutin_speed)*(v<=self.rated_speed)\n",
    "                + self.rated_power*(v>self.rated_speed)*(v<=self.cutout_speed) + 0.*(v>self.cutout_speed))\n",
    "    \n",
    "    def multi_pc(self, v0):\n",
    "        return integrate.quad_vec(lambda v: self.single_pc(v)*gaussian(v,v0), -np.inf, np.inf)[0]"
   ]
  },
  {
   "cell_type": "code",
   "execution_count": 3,
   "metadata": {},
   "outputs": [],
   "source": [
    "# Vestas V164/8000\n",
    "P = [0,40,100,370,650,895,1150,1500,1850,2375,2900,3525,4150,4875,5600,6350,7100,7580,7800,7920,8000] # kW\n",
    "v = np.arange(3,13.5,0.5) # m/s\n",
    "vestas = Wind_Turbine(8000,3,13,25,P,v)\n",
    "\n",
    "# Enercon E126/7500\n",
    "P = [0,25,55,110,175,290,410,580,760,1005,1250,1575,1900,2300,2700,3225,3750,\n",
    "     4300,4850,5300,5750,6125,6500,6780,7000,7200,7350,7450,7500,7560,7580] # kW\n",
    "v = np.arange(2,17.5,0.5) # m/s\n",
    "enercon = Wind_Turbine(7580,2,17,25,P,v)"
   ]
  },
  {
   "cell_type": "raw",
   "metadata": {},
   "source": [
    "x = np.linspace(0,35,100)\n",
    "plt.figure(figsize = (12,6), dpi = 100)\n",
    "plt.plot(x, vestas.multi_pc(x), c = 'r', label = 'Vestas')\n",
    "plt.plot(x, enercon.multi_pc(x), c = 'b', label = 'Enercon')\n",
    "plt.legend()\n",
    "plt.show()"
   ]
  },
  {
   "cell_type": "code",
   "execution_count": 4,
   "metadata": {},
   "outputs": [],
   "source": [
    "plants = pd.read_csv('data/plants/plants.csv', sep = ';', index_col = 0, comment = '#')\n",
    "\n",
    "for i in plants.index:\n",
    "    wind_ninja = pd.read_csv('data/wind/ninja_wind_%s.csv'%plants['location'][i],\n",
    "                             sep = ',',\n",
    "                             index_col = 0,\n",
    "                             usecols = [0,2,3],\n",
    "                             comment = '#')\n",
    "    v = wind_ninja['wind_speed'].values/wind_ninja['wind_speed'].mean()*plants['atlas_wind_speed'][i]\n",
    "    if i == 'Energy Island':\n",
    "        P = vestas.multi_pc(v)\n",
    "        cf_wind = P/vestas.rated_power\n",
    "    else:\n",
    "        P = enercon.multi_pc(v)\n",
    "        cf_wind = P/enercon.rated_power\n",
    "    pd.Series(cf_wind).to_csv('data/cf/wind_%s.csv'%plants['location'][i])"
   ]
  },
  {
   "cell_type": "raw",
   "metadata": {},
   "source": [
    "wind_ninja = pd.read_csv('data/wind/ninja_wind_56.4000_6.8000.csv',\n",
    "                         sep = ',',\n",
    "                         index_col = 0,\n",
    "                         usecols = [0,2,3],\n",
    "                         comment = '#')\n",
    "x = np.linspace(0,35,100)\n",
    "plt.figure(figsize = (12,6), dpi = 100)\n",
    "plt.plot(x, vestas.single_pc(x), c = 'r', label = 'Single')\n",
    "plt.plot(x, vestas.multi_pc(x), c = 'b', label = 'Multi')\n",
    "plt.scatter(wind_ninja['wind_speed'], wind_ninja['electricity'], s = 1.5, c = 'g', label = 'Ninja')\n",
    "plt.legend()\n",
    "plt.show()"
   ]
  },
  {
   "cell_type": "raw",
   "metadata": {},
   "source": [
    "# effective pc - gaussian method\n",
    "plt.figure(figsize = (12,6), dpi = 100)\n",
    "plt.scatter(v, singlepc(v), c = 'r', label = 'Single')\n",
    "plt.scatter(v, multipc(v), c = 'b', label = 'Multi')\n",
    "plt.scatter(wind_ninja['wind_speed'], wind_ninja['electricity'], c = 'g', label = 'Ninja')\n",
    "plt.legend()\n",
    "plt.show()"
   ]
  },
  {
   "cell_type": "raw",
   "metadata": {},
   "source": [
    "# average method\n",
    "csvlist = ['data/wind/ninja_wind_56.4000_6.8000.csv',\n",
    "           'data/wind/ninja_wind_56.3929_6.5120_corrected.csv',\n",
    "           'data/wind/ninja_wind_56.3999_6.7270_corrected.csv',\n",
    "           'data/wind/ninja_wind_56.5849_6.8978_corrected.csv',\n",
    "           'data/wind/ninja_wind_56.6336_6.5942_corrected.csv',\n",
    "           'data/wind/ninja_wind_56.5012_6.5436_corrected.csv',\n",
    "           'data/wind/ninja_wind_56.4942_6.8282_corrected.csv',\n",
    "           'data/wind/ninja_wind_56.4698_6.6701_corrected.csv']\n",
    "atlaslist = [10.63,10.63,10.63,10.7,10.73,10.68,10.66,10.65] # m/s\n",
    "\n",
    "j = 0\n",
    "P = np.zeros(8760)\n",
    "for i in csvlist:\n",
    "    wind_ninja = pd.read_csv(i, sep = ',', index_col = 0, usecols = [0,2,3], comment = '#')\n",
    "    v = wind_ninja['wind_speed'].values/wind_ninja['wind_speed'].mean()*atlaslist[j]\n",
    "    P += singlepc(v)\n",
    "    j += 1\n",
    "P /= np.size(csvlist)\n",
    "cf_wind = P/8000\n",
    "cf_wind.mean()"
   ]
  },
  {
   "cell_type": "raw",
   "metadata": {},
   "source": [
    "# effective pc - average method\n",
    "wind_ninja = pd.read_csv('data/wind/ninja_wind_56.4000_6.8000_corrected.csv',\n",
    "                         sep = ',',\n",
    "                         index_col = 0,\n",
    "                         usecols = [0,2,3],\n",
    "                         comment = '#')\n",
    "v = wind_ninja['wind_speed'].values/wind_ninja['wind_speed'].mean()*10.63 # m/s global wind atlas\n",
    "plt.figure(figsize = (12,6), dpi = 100)\n",
    "plt.scatter(v, P, c = 'r', label = 'Average of 8 points')\n",
    "plt.scatter(v, multipc(v), c = 'b', label = 'Center point')\n",
    "plt.scatter(wind_ninja['wind_speed'], wind_ninja['electricity'], c = 'g', label = 'Ninja')\n",
    "plt.legend()\n",
    "plt.show()"
   ]
  }
 ],
 "metadata": {
  "kernelspec": {
   "display_name": "Python 3",
   "language": "python",
   "name": "python3"
  },
  "language_info": {
   "codemirror_mode": {
    "name": "ipython",
    "version": 3
   },
   "file_extension": ".py",
   "mimetype": "text/x-python",
   "name": "python",
   "nbconvert_exporter": "python",
   "pygments_lexer": "ipython3",
   "version": "3.7.9"
  }
 },
 "nbformat": 4,
 "nbformat_minor": 4
}
