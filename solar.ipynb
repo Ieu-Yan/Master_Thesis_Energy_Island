{
 "cells": [
  {
   "cell_type": "code",
   "execution_count": 1,
   "metadata": {},
   "outputs": [],
   "source": [
    "import numpy as np\n",
    "import pandas as pd\n",
    "import matplotlib.pyplot as plt"
   ]
  },
  {
   "cell_type": "code",
   "execution_count": 2,
   "metadata": {},
   "outputs": [],
   "source": [
    "# Data from Global Solar Atlas (Tilt: 40°, Azimuth: 180°, 8000kW)\n",
    "G_atlas = 1205.9 # kW/m2\n",
    "P_atlas = 7.954E6 # kWh\n",
    "A_atlas = P_atlas/G_atlas # m2\n",
    "\n",
    "# Data from renewables.ninja (Tilt: 40°, Azimuth: 180°, 8000kW)\n",
    "pv_ninja = pd.read_csv('data/solar/ninja_pv_56.4000_6.8000_uncorrected.csv',\n",
    "                       sep = ',',\n",
    "                       index_col = 0,\n",
    "                       usecols = [0,2,3,4],\n",
    "                       comment = '#')"
   ]
  },
  {
   "cell_type": "code",
   "execution_count": 3,
   "metadata": {},
   "outputs": [
    {
     "data": {
      "text/plain": [
       "0.11349885844748858"
      ]
     },
     "execution_count": 3,
     "metadata": {},
     "output_type": "execute_result"
    }
   ],
   "source": [
    "P = pv_ninja['electricity'].values/pv_ninja['electricity'].mean()*P_atlas/8760 # kWh\n",
    "cf_pv = P/8000\n",
    "cf_pv.mean()"
   ]
  },
  {
   "cell_type": "code",
   "execution_count": 4,
   "metadata": {},
   "outputs": [],
   "source": [
    "pd.Series(cf_pv).to_csv('data/cf/pv.csv')"
   ]
  },
  {
   "cell_type": "raw",
   "metadata": {},
   "source": [
    "# irradiance method\n",
    "\n",
    "pvtype = '0single'\n",
    "\n",
    "phi = 56.4 # Latitude \n",
    "xi = 6.8 # Longitude\n",
    "\n",
    "d_n = np.arange(1,366)\n",
    "d_n = np.repeat(d_n,24) # Number of the day\n",
    "LT = np.arange(0,24)\n",
    "LT = np.tile(LT,365) # Hour of day in UTC\n",
    "B = (d_n-81)*360/364\n",
    "ET = 9.87*np.sin(2*np.deg2rad(B))-7.53*np.cos(np.deg2rad(B))-1.5*np.sin(np.deg2rad(B))\n",
    "ST = LT+(ET/60)-(xi/15)\n",
    "omega = 15*(ST-12)\n",
    "delta = 23.45*np.sin(np.deg2rad(360*(d_n+284)/365))\n",
    "\n",
    "singamma_s = (np.sin(np.deg2rad(delta))*np.sin(np.deg2rad(phi))\n",
    "              +np.cos(np.deg2rad(delta))*np.cos(np.deg2rad(phi))*np.cos(np.deg2rad(omega)))\n",
    "singamma_s[singamma_s<0] = 0\n",
    "cosgamma_s = np.cos(np.arcsin(singamma_s))\n",
    "\n",
    "cospsi_s = (singamma_s*np.sin(np.deg2rad(phi))-np.sin(np.deg2rad(delta)))/cosgamma_s/np.cos(np.deg2rad(phi))\n",
    "psi_s = np.arccos(cospsi_s)*(omega<0)-np.arccos(cospsi_s)*(omega>=0)"
   ]
  },
  {
   "cell_type": "raw",
   "metadata": {},
   "source": [
    "if pvtype == '0single':\n",
    "    alpha = 90*(omega<0)-90*(omega>=0) # Panel orientation angle towards south\n",
    "    beta = np.rad2deg(abs(np.arctan(-np.sin(psi_s)*cosgamma_s/singamma_s))) # from notes\n",
    "elif pvtype == '40no':\n",
    "    alpha = 0\n",
    "    beta = 40"
   ]
  },
  {
   "cell_type": "raw",
   "metadata": {},
   "source": [
    "costheta_s = (np.sin(np.deg2rad(delta))*np.sin(np.deg2rad(phi))*np.cos(np.deg2rad(beta))\n",
    "              -np.sin(np.deg2rad(delta))*np.cos(np.deg2rad(phi))\n",
    "              *np.sin(np.deg2rad(beta))*np.cos(np.deg2rad(alpha))\n",
    "              +np.cos(np.deg2rad(delta))*np.cos(np.deg2rad(phi))\n",
    "              *np.cos(np.deg2rad(beta))*np.cos(np.deg2rad(omega))\n",
    "              +np.cos(np.deg2rad(delta))*np.sin(np.deg2rad(phi))\n",
    "              *np.sin(np.deg2rad(beta))*np.cos(np.deg2rad(alpha))*np.cos(np.deg2rad(omega))\n",
    "              +np.cos(np.deg2rad(delta))*np.sin(np.deg2rad(alpha))\n",
    "              *np.sin(np.deg2rad(omega))*np.sin(np.deg2rad(beta)))\n",
    "costheta_s[costheta_s<0] = 0"
   ]
  },
  {
   "cell_type": "raw",
   "metadata": {},
   "source": [
    "B0 = 1.367 # kW/m2\n",
    "epsilon = 1+0.033*np.cos(np.deg2rad(360*d_n/365))\n",
    "B0t = B0*epsilon*singamma_s\n",
    "\n",
    "# Ground-level solar irradiance (kW/m2)\n",
    "G_0 = pd.read_csv('data/solar/Global_irr_pv_56.4000_6.8000.csv',\n",
    "                  sep = ',',\n",
    "                  index_col = 0,\n",
    "                  usecols = [0,2],\n",
    "                  comment = '#')['radiation_surface'].values/1000"
   ]
  },
  {
   "cell_type": "raw",
   "metadata": {},
   "source": [
    "K_t = np.divide(G_0, B0t, out = np.zeros_like(G_0), where = B0t!=0)\n",
    "plt.plot(K_t)\n",
    "plt.show()"
   ]
  },
  {
   "cell_type": "raw",
   "metadata": {},
   "source": [
    "def irradiationinterpolate(G):\n",
    "    n = np.size(G)\n",
    "    G_int = np.zeros(2*n)\n",
    "    for i in np.arange(2*n):\n",
    "        if np.mod(i,2) == 0:\n",
    "            j = int(i/2)\n",
    "            G_int[i] = G[j]\n",
    "        elif i != 2*n-1:\n",
    "            j = int((i-1)/2)\n",
    "            G_int[i] = (G[j]+G[j+1])/2\n",
    "            \n",
    "            # warning\n",
    "            if G[j] == 0 or G[j+1] == 0:\n",
    "                G_int[i] = 0\n",
    "                \n",
    "        else:\n",
    "            G_int[i] = (G[0]+G[n-1])/2\n",
    "    return G_int\n",
    "\n",
    "G_int = G_0\n",
    "m = 0\n",
    "for i in range(m):\n",
    "    G_int = irradiationinterpolate(G_int)"
   ]
  },
  {
   "cell_type": "raw",
   "metadata": {},
   "source": [
    "n = -2\n",
    "G_0n = np.zeros_like(G_0)\n",
    "for i in np.arange(np.size(G_0n)):\n",
    "    j = 2**m*i+n\n",
    "    if j >= 2**m*8760:\n",
    "        j -= 2**m*8760\n",
    "    if j < 0:\n",
    "        j += 2**m*8760\n",
    "    G_0n[i] = G_int[j]\n",
    "\n",
    "K_t = np.divide(G_0n, B0t, out = np.zeros_like(G_0n), where = B0t!=0)\n",
    "plt.plot(K_t)\n",
    "plt.show()\n",
    "\n",
    "t = pd.date_range('2019-01-01 00:00', '2019-12-31 23:00', freq = 'H')\n",
    "\n",
    "j = 0\n",
    "k = 0\n",
    "for i in K_t:\n",
    "    if i > 1:\n",
    "        print(t[j])\n",
    "        k += 1\n",
    "    j += 1\n",
    "print(k)"
   ]
  },
  {
   "cell_type": "raw",
   "metadata": {},
   "source": [
    "F_D = 1-1.13*K_t\n",
    "D_0 = F_D*G_0\n",
    "B_0 = G_0-D_0\n",
    "B_tilt = B_0/singamma_s*costheta_s\n",
    "D_tilt = D_0/singamma_s*costheta_s"
   ]
  },
  {
   "cell_type": "raw",
   "metadata": {},
   "source": [
    "if pvtype == '0single':\n",
    "    stri = 's_t_0deg_' # single tracking 0 tilt\n",
    "elif pvtype == '40no':\n",
    "    stri = ''\n",
    "\n",
    "pv_ninja = pd.read_csv('data/solar/%sninja_pv_56.4000_6.8000_uncorrected.csv'%stri,\n",
    "                       sep = ',',\n",
    "                       index_col = 0,\n",
    "                       usecols = [0,2,3,4],\n",
    "                       comment = '#')\n",
    "el_pv = pv_ninja['electricity'].values # kWh\n",
    "\n",
    "# ninja data\n",
    "# Direct (B) and Diffuse (D) irradiance (kW/m2)\n",
    "#B_tilt = pv_ninja['irradiance_direct'].values\n",
    "#D_tilt = pv_ninja['irradiance_diffuse'].values"
   ]
  },
  {
   "cell_type": "raw",
   "metadata": {},
   "source": [
    "# Albedo (R) (kW/m2)\n",
    "rho = 0.2 # Reflectivity on the type of ground (approx. 0.2?)\n",
    "R_tilt = rho*G_0*(1-np.cos(np.deg2rad(beta)))/2\n",
    "\n",
    "# Global irradiance on tilted panels (kW/m2)\n",
    "G_tilt = B_tilt+D_tilt+R_tilt\n",
    "G_tilt_m = G_tilt/G_tilt.mean()*G_atlas/8760 # Correcting Global irradiance"
   ]
  },
  {
   "cell_type": "raw",
   "metadata": {},
   "source": [
    "# ninja area filter\n",
    "A_ninja = np.divide(el_pv, G_tilt, out = np.zeros_like(el_pv), where = G_tilt!=0)\n",
    "plt.hist(A_ninja[A_ninja>6000], bins = 20)\n",
    "plt.ylim([0,500])\n",
    "plt.show()"
   ]
  },
  {
   "cell_type": "raw",
   "metadata": {},
   "source": [
    "P = G_tilt_m*A_atlas\n",
    "cf_pv = P/8000\n",
    "cf_pv.mean()"
   ]
  }
 ],
 "metadata": {
  "kernelspec": {
   "display_name": "Python 3",
   "language": "python",
   "name": "python3"
  },
  "language_info": {
   "codemirror_mode": {
    "name": "ipython",
    "version": 3
   },
   "file_extension": ".py",
   "mimetype": "text/x-python",
   "name": "python",
   "nbconvert_exporter": "python",
   "pygments_lexer": "ipython3",
   "version": "3.7.9"
  }
 },
 "nbformat": 4,
 "nbformat_minor": 4
}
