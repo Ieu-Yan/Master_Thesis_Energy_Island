{
 "cells": [
  {
   "cell_type": "code",
   "execution_count": 1,
   "metadata": {},
   "outputs": [],
   "source": [
    "import numpy as np\n",
    "import matplotlib.pyplot as plt\n",
    "import pypsa"
   ]
  },
  {
   "cell_type": "markdown",
   "metadata": {},
   "source": [
    "Network downloaded from https://zenodo.org/record/4010644#.YgJBJy8w1qs\n",
    "\n",
    "\n",
    "Create environment with the command: conda env create -f environment.yml"
   ]
  },
  {
   "cell_type": "raw",
   "metadata": {},
   "source": [
    "override_component_attrs = pypsa.descriptors.Dict({k : v.copy() for k,v in pypsa.components.component_attrs.items()})\n",
    "override_component_attrs[\"Link\"].loc[\"bus2\"] = [\"string\",np.nan,np.nan,\"2nd bus\",\"Input (optional)\"]\n",
    "override_component_attrs[\"Link\"].loc[\"bus3\"] = [\"string\",np.nan,np.nan,\"3rd bus\",\"Input (optional)\"]\n",
    "override_component_attrs[\"Link\"].loc[\"bus4\"] = [\"string\",np.nan,np.nan,\"4th bus\",\"Input (optional)\"]\n",
    "override_component_attrs[\"Link\"].loc[\"efficiency2\"] = [\"static or series\",\"per unit\",1.,\"2nd bus efficiency\",\"Input (optional)\"]\n",
    "override_component_attrs[\"Link\"].loc[\"efficiency3\"] = [\"static or series\",\"per unit\",1.,\"3rd bus efficiency\",\"Input (optional)\"]\n",
    "override_component_attrs[\"Link\"].loc[\"efficiency4\"] = [\"static or series\",\"per unit\",1.,\"4th bus efficiency\",\"Input (optional)\"]\n",
    "override_component_attrs[\"Link\"].loc[\"p2\"] = [\"series\",\"MW\",0.,\"2nd bus output\",\"Output\"]\n",
    "override_component_attrs[\"Link\"].loc[\"p3\"] = [\"series\",\"MW\",0.,\"3rd bus output\",\"Output\"]\n",
    "override_component_attrs[\"Link\"].loc[\"p4\"] = [\"series\",\"MW\",0.,\"4th bus output\",\"Output\"]\n",
    "\n",
    "network = pypsa.Network('version-Base/postnetworks/postnetwork-go_TYNDP_2020.nc',\n",
    "                        override_component_attrs = override_component_attrs)"
   ]
  },
  {
   "cell_type": "code",
   "execution_count": 2,
   "metadata": {},
   "outputs": [
    {
     "name": "stderr",
     "output_type": "stream",
     "text": [
      "WARNING:pypsa.io:\n",
      "Importing PyPSA from older version of PyPSA than current version 0.17.1.\n",
      "Please read the release notes at https://pypsa.org/doc/release_notes.html\n",
      "carefully to prepare your network for import.\n",
      "\n",
      "INFO:pypsa.io:Imported network postnetwork-go_TYNDP_2030.nc has buses, carriers, generators, global_constraints, links, loads, storage_units, stores\n",
      "WARNING:pypsa.io:\n",
      "Importing PyPSA from older version of PyPSA than current version 0.17.1.\n",
      "Please read the release notes at https://pypsa.org/doc/release_notes.html\n",
      "carefully to prepare your network for import.\n",
      "\n",
      "INFO:pypsa.io:Imported network postnetwork-go_TYNDP_2040.nc has buses, carriers, generators, global_constraints, links, loads, storage_units, stores\n",
      "WARNING:pypsa.io:\n",
      "Importing PyPSA from older version of PyPSA than current version 0.17.1.\n",
      "Please read the release notes at https://pypsa.org/doc/release_notes.html\n",
      "carefully to prepare your network for import.\n",
      "\n",
      "INFO:pypsa.io:Imported network postnetwork-go_TYNDP_2050.nc has buses, carriers, generators, global_constraints, links, loads, storage_units, stores\n"
     ]
    }
   ],
   "source": [
    "for year in [2030,2040,2050]:\n",
    "    network = pypsa.Network('marta/version-Base/postnetworks/postnetwork-go_TYNDP_%d.nc'%year)\n",
    "    \n",
    "    network.loads_t.p_set.drop(\n",
    "        network.loads_t.p_set.filter(like = ' ').columns, axis = 1\n",
    "    ).to_csv('data/market/load_%d.csv'%year)\n",
    "    \n",
    "    network.buses_t.marginal_price.drop(\n",
    "        network.buses_t.marginal_price.filter(like = ' ').columns, axis = 1\n",
    "    ).to_csv('data/market/price_%d.csv'%year)"
   ]
  },
  {
   "cell_type": "raw",
   "metadata": {},
   "source": [
    "network.generators.carrier.unique()\n",
    "\n",
    "node = 'DK'\n",
    "plt.figure(figsize = (14,4), dpi = 100)\n",
    "plt.subplot(121)\n",
    "plt.plot(network.loads_t.p_set[node])\n",
    "plt.ylabel('Loads [MW]')\n",
    "plt.subplot(122)\n",
    "plt.plot(network.buses_t['marginal_price'][node])\n",
    "plt.ylabel('Price [€/MWh]')\n",
    "plt.show()"
   ]
  }
 ],
 "metadata": {
  "interpreter": {
   "hash": "23b095ff1308d504f81f63619ce0b53fcc52047f5a0d8858820e68f5607745a6"
  },
  "kernelspec": {
   "display_name": "Python 3",
   "language": "python",
   "name": "python3"
  },
  "language_info": {
   "codemirror_mode": {
    "name": "ipython",
    "version": 3
   },
   "file_extension": ".py",
   "mimetype": "text/x-python",
   "name": "python",
   "nbconvert_exporter": "python",
   "pygments_lexer": "ipython3",
   "version": "3.7.9"
  }
 },
 "nbformat": 4,
 "nbformat_minor": 2
}
